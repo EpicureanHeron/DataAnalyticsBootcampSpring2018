{
 "cells": [
  {
   "cell_type": "markdown",
   "metadata": {},
   "source": [
    "# Prescriptions\n",
    "\n",
    "This activity allows students to practice using the SQLAlchemy ORM by definining a `Prescription` class.\n",
    "\n",
    "## Instructions\n",
    "\n",
    "* Your tasks for this activity are to use the SQLAlchemy ORM to define a `Prescription` class, and then use a `session` to commit prescription data to an in-memory SQLite database.\n",
    "\n",
    "* Start by writing the necessary imports and boilerplate.\n",
    "\n",
    "  * Be sure to create \n",
    "\n",
    "* Next, create a `Prescription` class. It should keep track of the following information:\n",
    "\n",
    "  * The **name** of the drug the script is for. E.g.: `\"Amoxicillin\"`\n",
    "\n",
    "  * The **strength** of each dose in milligrams. E.g.: `25.5`\n",
    "\n",
    "  * The number of **doses per administration**. This is the \"number of pills\" a patient would take at each administration of the drug. \n",
    "  \n",
    " \n",
    "    * For example, `2` doses per administration implies the patient is to take two pills whenever the drug is administered.\n",
    "\n",
    "  * The **route of administration**. E.g.: `\"Oral\"`, `\"Intravenous\"`, etc.\n",
    "\n",
    "  * The number of **administrations per day**. This is how many times the patient is to take the drug over the course of the day. E.g.: `\"Twice daily\"`.\n",
    "\n",
    "  * The **total quantity to dispense**. This is the total number of pills/volume of solution the pharmacist filling the prescription is supposed to dispense. E.g: `\"120\"`.\n",
    "\n",
    "  * The **refill limit**. This is the number of times the patient can use this prescription. E.g.: `3`.\n",
    "\n",
    "  * The **refill frequency**. This is the frequency with which the patient can seek refills. E.g.: `\"Monthly\"`.\n",
    "\n",
    "* Once you've created your `Prescription` class, instantiate it, and use a `session` to save the new instance to the database.\n",
    "\n",
    "  * Remember that this requires you to create an engine; create a `Prescriptions` table; and use a `session` object to add and commit your script object to the database.\n",
    "\n",
    "## Hints\n",
    "\n",
    "* For help creating the `Prescription` class, refer to the documentation on [Declaring a Mapping](http://docs.sqlalchemy.org/en/latest/orm/tutorial.html#declare-a-mapping).\n",
    "\n",
    "* For help interacting with the database, refer to the documentation on [Creating a Session](http://docs.sqlalchemy.org/en/latest/orm/tutorial.html#creating-a-session).\n"
   ]
  },
  {
   "cell_type": "code",
   "execution_count": null,
   "metadata": {
    "collapsed": true
   },
   "outputs": [],
   "source": []
  }
 ],
 "metadata": {
  "kernelspec": {
   "display_name": "Python 3",
   "language": "python",
   "name": "python3"
  },
  "language_info": {
   "codemirror_mode": {
    "name": "ipython",
    "version": 3
   },
   "file_extension": ".py",
   "mimetype": "text/x-python",
   "name": "python",
   "nbconvert_exporter": "python",
   "pygments_lexer": "ipython3",
   "version": "3.6.1"
  }
 },
 "nbformat": 4,
 "nbformat_minor": 2
}
