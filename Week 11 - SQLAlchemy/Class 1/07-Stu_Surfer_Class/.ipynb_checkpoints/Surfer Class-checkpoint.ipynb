{
 "cells": [
  {
   "cell_type": "code",
   "execution_count": 1,
   "metadata": {
    "collapsed": true
   },
   "outputs": [],
   "source": [
    "class Surfer():\n",
    "    def __init__(self, name, hometown, rank):\n",
    "        self.name = name\n",
    "        self.hometown = hometown\n",
    "        self.rank = rank"
   ]
  },
  {
   "cell_type": "code",
   "execution_count": 2,
   "metadata": {
    "collapsed": true
   },
   "outputs": [],
   "source": [
    "surfer = Surfer('Kelly Slater', 'Santa Monica', 1)"
   ]
  },
  {
   "cell_type": "code",
   "execution_count": 3,
   "metadata": {},
   "outputs": [
    {
     "name": "stdout",
     "output_type": "stream",
     "text": [
      "Kelly Slater\n"
     ]
    }
   ],
   "source": [
    "print(surfer.name)"
   ]
  },
  {
   "cell_type": "code",
   "execution_count": 15,
   "metadata": {},
   "outputs": [
    {
     "name": "stdout",
     "output_type": "stream",
     "text": [
      "What is the surfer's name?dylan rossi\n",
      "What is the surfer's hometown?pitt\n",
      "What is the surfer's rank?\n",
      "2\n",
      "Name: dylan rossi\n",
      "Hometown: pitt\n",
      "Rank: 2\n",
      "\n",
      "\n",
      "Would you like to continue? 'Y' or 'N'\n",
      "N\n"
     ]
    }
   ],
   "source": [
    "cont = True\n",
    "while cont == True:\n",
    "    cont = ''\n",
    "    name = input(\"What is the surfer's name?\")\n",
    "    hometown = input(\"What is the surfer's hometown?\")\n",
    "    rank = input(\"What is the surfer's rank?\\n\")\n",
    "    \n",
    "    surfer = Surfer(name, hometown, rank)\n",
    "    \n",
    "    print(\"Name: \" + surfer.name)\n",
    "    print(\"Hometown: \" + surfer.hometown)\n",
    "    print(\"Rank: \" + surfer.rank)\n",
    "    print('\\n')\n",
    "    while cont == '':\n",
    "        response = input(\"Would you like to continue? 'Y' or 'N'\\n\")\n",
    "        if response.lower() == 'y':\n",
    "            cont = True\n",
    "        elif response.lower() == 'n':\n",
    "            cont = False\n",
    "        else:\n",
    "            cont = ''"
   ]
  },
  {
   "cell_type": "code",
   "execution_count": null,
   "metadata": {
    "collapsed": true
   },
   "outputs": [],
   "source": []
  }
 ],
 "metadata": {
  "kernelspec": {
   "display_name": "Python 3",
   "language": "python",
   "name": "python3"
  },
  "language_info": {
   "codemirror_mode": {
    "name": "ipython",
    "version": 3
   },
   "file_extension": ".py",
   "mimetype": "text/x-python",
   "name": "python",
   "nbconvert_exporter": "python",
   "pygments_lexer": "ipython3",
   "version": "3.6.1"
  }
 },
 "nbformat": 4,
 "nbformat_minor": 2
}
