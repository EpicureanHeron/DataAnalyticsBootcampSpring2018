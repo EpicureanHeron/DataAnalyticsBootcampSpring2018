{
 "cells": [
  {
   "cell_type": "code",
   "execution_count": 41,
   "metadata": {
    "collapsed": true
   },
   "outputs": [],
   "source": [
    "class Surfer():\n",
    "    surfer_count = 0\n",
    "    \n",
    "    def __init__(self, name, hometown, rank, wipeouts=0):\n",
    "        self.name = name\n",
    "        self.hometown = hometown\n",
    "        self.rank = rank\n",
    "        self.wipeouts = wipeouts\n",
    "        Surfer.surfer_count += 1\n",
    "    \n",
    "    # Create a method called `speak` that prints \"Hang loose, bruh!\"\n",
    "    def speak(self):\n",
    "        print('Hang loose, bruh!')\n",
    "\n",
    "    # Create a method called `biography` that prints the surfer's name and hometown.\n",
    "    def biography(self):\n",
    "        print(self.name)\n",
    "        print(self.hometown)\n",
    "    # Create a method called `cheer` that will print \"I totally rock man, no wipeouts!\" if the surfer has no wipeouts. Otherwise, it prints 'Bummer bruh, keep on keeping on!'.\n",
    "    def cheer(self):\n",
    "        if self.wipeouts == 0:\n",
    "            print('I totally rock man, no wipeouts!')\n",
    "        else:\n",
    "            print(\"Keep on keeping on\")\n",
    "    \n",
    "    def count(self):\n",
    "        print(surfer_count + \"Surfers currently shredding\")"
   ]
  },
  {
   "cell_type": "code",
   "execution_count": 42,
   "metadata": {},
   "outputs": [],
   "source": [
    "# Create two surfers that print out all their info and run all the methods.\n",
    "surfer1 = Surfer('Kelly Slater', 'Santa Monica', 1)\n",
    "surfer2 = Surfer('Dylan Rossi', 'Pittsburgh', 8, 33)"
   ]
  },
  {
   "cell_type": "code",
   "execution_count": 43,
   "metadata": {},
   "outputs": [
    {
     "name": "stdout",
     "output_type": "stream",
     "text": [
      "Hang loose, bruh!\n",
      "Kelly Slater\n",
      "Santa Monica\n",
      "I totally rock man, no wipeouts!\n"
     ]
    }
   ],
   "source": [
    "surfer1.speak()\n",
    "surfer1.biography()\n",
    "surfer1.cheer()"
   ]
  },
  {
   "cell_type": "code",
   "execution_count": 44,
   "metadata": {},
   "outputs": [
    {
     "name": "stdout",
     "output_type": "stream",
     "text": [
      "Hang loose, bruh!\n",
      "Dylan Rossi\n",
      "Pittsburgh\n",
      "Keep on keeping on\n"
     ]
    }
   ],
   "source": [
    "surfer2.speak()\n",
    "surfer2.biography()\n",
    "surfer2.cheer()"
   ]
  },
  {
   "cell_type": "code",
   "execution_count": 45,
   "metadata": {},
   "outputs": [
    {
     "data": {
      "text/plain": [
       "2"
      ]
     },
     "execution_count": 45,
     "metadata": {},
     "output_type": "execute_result"
    }
   ],
   "source": [
    "Surfer.surfer_count"
   ]
  },
  {
   "cell_type": "code",
   "execution_count": null,
   "metadata": {
    "collapsed": true
   },
   "outputs": [],
   "source": []
  }
 ],
 "metadata": {
  "kernelspec": {
   "display_name": "Python 3",
   "language": "python",
   "name": "python3"
  },
  "language_info": {
   "codemirror_mode": {
    "name": "ipython",
    "version": 3
   },
   "file_extension": ".py",
   "mimetype": "text/x-python",
   "name": "python",
   "nbconvert_exporter": "python",
   "pygments_lexer": "ipython3",
   "version": "3.6.1"
  }
 },
 "nbformat": 4,
 "nbformat_minor": 2
}
