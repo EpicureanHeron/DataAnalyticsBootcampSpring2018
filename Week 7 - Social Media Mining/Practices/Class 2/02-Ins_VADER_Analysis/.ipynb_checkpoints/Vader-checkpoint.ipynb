{
 "cells": [
  {
   "cell_type": "code",
   "execution_count": 3,
   "metadata": {
    "collapsed": true
   },
   "outputs": [],
   "source": [
    "# Import and Initialize Sentiment Analyzer\n",
    "from vaderSentiment.vaderSentiment import SentimentIntensityAnalyzer\n",
    "analyzer = SentimentIntensityAnalyzer()"
   ]
  },
  {
   "cell_type": "code",
   "execution_count": 4,
   "metadata": {
    "collapsed": true
   },
   "outputs": [],
   "source": [
    "# Sample Strings\n",
    "happy_string = \"Your humble instructor is smart, beautiful, and funny!\"\n",
    "# angry_string = \"Ugh. I am feeling so distraught! I hate everything. \" \\\n",
    "#     \"I just want to do mean things to everyone.\"\n",
    "# happy_emoticon_string = \":-) :) :-D  ;-) :-P\"\n",
    "# angry_emoticon_string = \":-( :( D-< :'(\"\n",
    "# funny_slang_string = \"lol rofl haha\"\n",
    "# angry_slang_string = \"Sux meh grr\"\n",
    "\n",
    "# Target String Setting\n",
    "target_string = happy_string"
   ]
  },
  {
   "cell_type": "code",
   "execution_count": 5,
   "metadata": {
    "collapsed": true
   },
   "outputs": [],
   "source": [
    "# Run analysis\n",
    "compound = analyzer.polarity_scores(target_string)[\"compound\"]\n",
    "pos = analyzer.polarity_scores(target_string)[\"pos\"]\n",
    "neu = analyzer.polarity_scores(target_string)[\"neu\"]\n",
    "neg = analyzer.polarity_scores(target_string)[\"neg\"]"
   ]
  },
  {
   "cell_type": "code",
   "execution_count": 6,
   "metadata": {},
   "outputs": [
    {
     "name": "stdout",
     "output_type": "stream",
     "text": [
      "Your humble instructor is smart, beautiful, and funny!\n",
      "Compound Score: 0.8687\n",
      "Positive Score: 0.662\n",
      "Neutral Score: 0.338\n",
      "Negative Score: 0.0\n"
     ]
    }
   ],
   "source": [
    "# Print Analysis\n",
    "print(target_string)\n",
    "print(\"Compound Score: %s\" % compound)\n",
    "print(\"Positive Score: %s\" % pos)\n",
    "print(\"Neutral Score: %s\" % neu)\n",
    "print(\"Negative Score: %s\" % neg)"
   ]
  },
  {
   "cell_type": "code",
   "execution_count": null,
   "metadata": {
    "collapsed": true
   },
   "outputs": [],
   "source": []
  }
 ],
 "metadata": {
  "kernelspec": {
   "display_name": "Python 3",
   "language": "python",
   "name": "python3"
  },
  "language_info": {
   "codemirror_mode": {
    "name": "ipython",
    "version": 3
   },
   "file_extension": ".py",
   "mimetype": "text/x-python",
   "name": "python",
   "nbconvert_exporter": "python",
   "pygments_lexer": "ipython3",
   "version": "3.6.3"
  }
 },
 "nbformat": 4,
 "nbformat_minor": 2
}
