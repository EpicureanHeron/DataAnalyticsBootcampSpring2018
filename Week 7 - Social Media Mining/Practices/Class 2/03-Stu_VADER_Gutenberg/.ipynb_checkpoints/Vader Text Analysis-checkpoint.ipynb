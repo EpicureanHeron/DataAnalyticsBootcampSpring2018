{
 "cells": [
  {
   "cell_type": "code",
   "execution_count": 1,
   "metadata": {
    "collapsed": true
   },
   "outputs": [],
   "source": [
    "from vaderSentiment.vaderSentiment import SentimentIntensityAnalyzer\n",
    "analyzer = SentimentIntensityAnalyzer()"
   ]
  },
  {
   "cell_type": "code",
   "execution_count": 2,
   "metadata": {},
   "outputs": [],
   "source": [
    "text1 = open('Sample1.txt')"
   ]
  },
  {
   "cell_type": "code",
   "execution_count": 12,
   "metadata": {},
   "outputs": [],
   "source": [
    "with open (\"Sample1.txt\", \"r\") as file:\n",
    "    data1 = file.read()\n",
    "with open (\"Sample2.txt\", \"r\") as file:\n",
    "    data2 = file.read()\n",
    "with open (\"Sample3.txt\", \"r\") as file:\n",
    "    data3 = file.read()"
   ]
  },
  {
   "cell_type": "code",
   "execution_count": 15,
   "metadata": {},
   "outputs": [],
   "source": [
    "tuple_data = (data1, data2, data3)"
   ]
  },
  {
   "cell_type": "code",
   "execution_count": 20,
   "metadata": {},
   "outputs": [
    {
     "name": "stdout",
     "output_type": "stream",
     "text": [
      "One morning, when Gregor Samsa woke from troubled dreams, he found himself transformed in his bed into a horrible vermin. He lay on his armour-like back, and if he lifted his head a little he could see his brown belly, slightly domed and divided by arches into stiff sections. The bedding was hardly able to cover it and seemed ready to slide off any moment. His many legs, pitifully thin compared with the size of the rest of him, waved about helplessly as he looked.\n",
      "\n",
      "Compound Score: -0.7096\n",
      "Positive Score: 0.056\n",
      "Neutral Score: 0.825\n",
      "Negative Score: 0.119\n",
      "\n",
      "\n",
      "When we recognise the virtues, the talent, the beauty of Mother Earth, something is born in us, some kind of connection, love is born.\n",
      "Compound Score: 0.9231\n",
      "Positive Score: 0.399\n",
      "Neutral Score: 0.601\n",
      "Negative Score: 0.0\n",
      "\n",
      "\n",
      "And you're worried, not because you're headed to meet a houseful of vampires, but because you think those vampires won't approve of you, correct?\n",
      "That's right, I answered immediately, hiding my surprise at his casual use of the word.\n",
      "He shook his head. You're incredible. \n",
      "Compound Score: -0.0387\n",
      "Positive Score: 0.099\n",
      "Neutral Score: 0.778\n",
      "Negative Score: 0.123\n",
      "\n",
      "\n"
     ]
    }
   ],
   "source": [
    "for sample in tuple_data:\n",
    "    target_string = sample\n",
    "    compound = analyzer.polarity_scores(target_string)[\"compound\"]\n",
    "    pos = analyzer.polarity_scores(target_string)[\"pos\"]\n",
    "    neu = analyzer.polarity_scores(target_string)[\"neu\"]\n",
    "    neg = analyzer.polarity_scores(target_string)[\"neg\"]\n",
    "    print(target_string)\n",
    "    print(\"Compound Score: %s\" % compound)\n",
    "    print(\"Positive Score: %s\" % pos)\n",
    "    print(\"Neutral Score: %s\" % neu)\n",
    "    print(\"Negative Score: %s\" % neg)\n",
    "    print('\\n')"
   ]
  },
  {
   "cell_type": "code",
   "execution_count": null,
   "metadata": {
    "collapsed": true
   },
   "outputs": [],
   "source": []
  }
 ],
 "metadata": {
  "kernelspec": {
   "display_name": "Python 3",
   "language": "python",
   "name": "python3"
  },
  "language_info": {
   "codemirror_mode": {
    "name": "ipython",
    "version": 3
   },
   "file_extension": ".py",
   "mimetype": "text/x-python",
   "name": "python",
   "nbconvert_exporter": "python",
   "pygments_lexer": "ipython3",
   "version": "3.6.3"
  }
 },
 "nbformat": 4,
 "nbformat_minor": 2
}
