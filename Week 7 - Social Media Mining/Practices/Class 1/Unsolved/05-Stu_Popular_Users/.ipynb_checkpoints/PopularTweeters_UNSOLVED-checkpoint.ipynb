{
 "cells": [
  {
   "cell_type": "code",
   "execution_count": 1,
   "metadata": {
    "collapsed": true
   },
   "outputs": [],
   "source": [
    "# Dependencies\n",
    "import tweepy\n",
    "import json\n",
    "import pandas as pd\n",
    "\n",
    "# Your Twitter API Keys\n",
    "# twitter keys\n",
    "consumer_key = 'x9kB13vG4j6CtIwszEyhgAcy4'\n",
    "consumer_secret = 'UlFnGcCaOqqx2cx4ZMQkvsRaSTN96Yoq4T1Yh7rp8GR8IdJiiv'\n",
    "access_token = '761026063-t0XoJsd5brAYmVXvV8GnHzTQUAH8grpz2HAx0o6S'\n",
    "access_token_secret = '0aggjvCPqAO5jCSVTOStrpAT3sB5NyzeKTio3EMJR2h6m'\n",
    "\n",
    "# auth tweepy\n",
    "auth = tweepy.OAuthHandler(consumer_key, consumer_secret)\n",
    "auth.set_access_token(access_token, access_token_secret)\n",
    "api = tweepy.API(auth, parser=tweepy.parsers.JSONParser())"
   ]
  },
  {
   "cell_type": "code",
   "execution_count": 12,
   "metadata": {},
   "outputs": [
    {
     "data": {
      "text/html": [
       "<div>\n",
       "<style>\n",
       "    .dataframe thead tr:only-child th {\n",
       "        text-align: right;\n",
       "    }\n",
       "\n",
       "    .dataframe thead th {\n",
       "        text-align: left;\n",
       "    }\n",
       "\n",
       "    .dataframe tbody tr th {\n",
       "        vertical-align: top;\n",
       "    }\n",
       "</style>\n",
       "<table border=\"1\" class=\"dataframe\">\n",
       "  <thead>\n",
       "    <tr style=\"text-align: right;\">\n",
       "      <th></th>\n",
       "      <th>Screen Name</th>\n",
       "      <th>Real Name</th>\n",
       "      <th>Tweets</th>\n",
       "      <th>Followers</th>\n",
       "      <th>Following</th>\n",
       "      <th>Favorites Count</th>\n",
       "    </tr>\n",
       "  </thead>\n",
       "  <tbody>\n",
       "    <tr>\n",
       "      <th>0</th>\n",
       "      <td>katyperry</td>\n",
       "      <td>KATY PERRY</td>\n",
       "      <td>8844</td>\n",
       "      <td>108647120</td>\n",
       "      <td>203</td>\n",
       "      <td>6022</td>\n",
       "    </tr>\n",
       "    <tr>\n",
       "      <th>1</th>\n",
       "      <td>justinbieber</td>\n",
       "      <td>Justin Bieber</td>\n",
       "      <td>30628</td>\n",
       "      <td>105419675</td>\n",
       "      <td>316257</td>\n",
       "      <td>3445</td>\n",
       "    </tr>\n",
       "    <tr>\n",
       "      <th>2</th>\n",
       "      <td>BarackObama</td>\n",
       "      <td>Barack Obama</td>\n",
       "      <td>15497</td>\n",
       "      <td>100365864</td>\n",
       "      <td>624487</td>\n",
       "      <td>10</td>\n",
       "    </tr>\n",
       "    <tr>\n",
       "      <th>3</th>\n",
       "      <td>Taylorswift13</td>\n",
       "      <td>Taylor Swift</td>\n",
       "      <td>84</td>\n",
       "      <td>85600953</td>\n",
       "      <td>0</td>\n",
       "      <td>126</td>\n",
       "    </tr>\n",
       "    <tr>\n",
       "      <th>4</th>\n",
       "      <td>rihanna</td>\n",
       "      <td>Rihanna</td>\n",
       "      <td>10069</td>\n",
       "      <td>86286422</td>\n",
       "      <td>1122</td>\n",
       "      <td>1023</td>\n",
       "    </tr>\n",
       "  </tbody>\n",
       "</table>\n",
       "</div>"
      ],
      "text/plain": [
       "     Screen Name      Real Name Tweets  Followers Following Favorites Count\n",
       "0      katyperry     KATY PERRY   8844  108647120       203            6022\n",
       "1   justinbieber  Justin Bieber  30628  105419675    316257            3445\n",
       "2    BarackObama   Barack Obama  15497  100365864    624487              10\n",
       "3  Taylorswift13   Taylor Swift     84   85600953         0             126\n",
       "4        rihanna        Rihanna  10069   86286422      1122            1023"
      ]
     },
     "execution_count": 12,
     "metadata": {},
     "output_type": "execute_result"
    }
   ],
   "source": [
    "# Import CSV file into Data Frame\n",
    "popular_tweeters = pd.read_csv(\"PopularAccounts.csv\", dtype=str)\n",
    "\n",
    "# Iterate through DataFrame\n",
    "for index, row in popular_tweeters.iterrows():\n",
    "    \n",
    "    # Error handling\n",
    "    try:\n",
    "        # Grab the twitter handle\n",
    "        target_user = row[\"Screen Name\"]\n",
    "        #print(target_user)\n",
    "\n",
    "        # Use the username with the Twitter API get_user\n",
    "        user_account = api.get_user(target_user)\n",
    "        user_real_name = user_account[\"name\"]\n",
    "        #print(user_account['followers_count'])\n",
    "        # Get the specific column data\n",
    "        user_tweets = user_account[\"statuses_count\"]\n",
    "        follower_count = user_account['followers_count']\n",
    "        friends_count = user_account['friends_count']\n",
    "        favourites_count = user_account['favourites_count']\n",
    "        # Do the same for \"followers_count\", \"friends_count\", and \"favourites_count\"\n",
    "\n",
    "        # Replace the row information for each\n",
    "        popular_tweeters.set_value(index, \"Real Name\", user_real_name)\n",
    "        popular_tweeters.set_value(index, \"Tweets\", user_tweets)\n",
    "        popular_tweeters.set_value(index, \"Followers\", follower_count)\n",
    "        popular_tweeters.set_value(index, \"Following\", friends_count)\n",
    "        popular_tweeters.set_value(index, \"Favorites Count\", favourites_count)\n",
    "\n",
    "        # Do the same for \"Tweets\", \"Followers\", \"Following, and \"Favorites Count\"\n",
    "    \n",
    "    # If an error is encountered, move on with the next iteration of the loop\n",
    "    except:\n",
    "        continue\n",
    "        \n",
    "# Export the new CSV as \"PopularAccounts_New.csv\"\n",
    "# Hint: use the to.csv() method\n",
    "popular_tweeters.to_csv('PopularAccounts_New.csv')\n",
    "    \n",
    "# View the DataFrame\n",
    "# Hint: use the head() method\n",
    "popular_tweeters.head()"
   ]
  },
  {
   "cell_type": "code",
   "execution_count": 13,
   "metadata": {},
   "outputs": [
    {
     "ename": "NameError",
     "evalue": "name 'average_followers' is not defined",
     "output_type": "error",
     "traceback": [
      "\u001b[0;31m---------------------------------------------------------------------------\u001b[0m",
      "\u001b[0;31mNameError\u001b[0m                                 Traceback (most recent call last)",
      "\u001b[0;32m<ipython-input-13-2392777a9f8e>\u001b[0m in \u001b[0;36m<module>\u001b[0;34m()\u001b[0m\n\u001b[1;32m      5\u001b[0m \u001b[0;31m# Create DataFrame\u001b[0m\u001b[0;34m\u001b[0m\u001b[0;34m\u001b[0m\u001b[0m\n\u001b[1;32m      6\u001b[0m averages = {\"Average Tweet Count\": average_tweet_count, \n\u001b[0;32m----> 7\u001b[0;31m             \u001b[0;34m\"Average Follower Count\"\u001b[0m\u001b[0;34m:\u001b[0m \u001b[0maverage_followers\u001b[0m\u001b[0;34m,\u001b[0m\u001b[0;34m\u001b[0m\u001b[0m\n\u001b[0m\u001b[1;32m      8\u001b[0m             \u001b[0;34m\"Average Following Count\"\u001b[0m\u001b[0;34m:\u001b[0m \u001b[0maverage_following_count\u001b[0m\u001b[0;34m,\u001b[0m\u001b[0;34m\u001b[0m\u001b[0m\n\u001b[1;32m      9\u001b[0m             \"Average Favorites Count\": average_favorites_count}\n",
      "\u001b[0;31mNameError\u001b[0m: name 'average_followers' is not defined"
     ]
    }
   ],
   "source": [
    "# Calculate Averages of the following: \"Tweets\"; \"Followers\"; \"Follwing\"; \"Favorites Count\"\n",
    "# See \"Create DataFrame\" below for the variable names you should use\n",
    "average_tweet_count = popular_tweeters[\"Tweets\"].mean()\n",
    "\n",
    "# Create DataFrame\n",
    "averages = {\"Average Tweet Count\": average_tweet_count, \n",
    "            \"Average Follower Count\": average_followers, \n",
    "            \"Average Following Count\": average_following_count,\n",
    "            \"Average Favorites Count\": average_favorites_count}\n",
    "\n",
    "# Create a Dataframe of the averages\n",
    "averages.head()"
   ]
  },
  {
   "cell_type": "code",
   "execution_count": null,
   "metadata": {
    "collapsed": true
   },
   "outputs": [],
   "source": []
  }
 ],
 "metadata": {
  "anaconda-cloud": {},
  "kernelspec": {
   "display_name": "Python 3",
   "language": "python",
   "name": "python3"
  },
  "language_info": {
   "codemirror_mode": {
    "name": "ipython",
    "version": 3
   },
   "file_extension": ".py",
   "mimetype": "text/x-python",
   "name": "python",
   "nbconvert_exporter": "python",
   "pygments_lexer": "ipython3",
   "version": "3.6.3"
  }
 },
 "nbformat": 4,
 "nbformat_minor": 1
}
