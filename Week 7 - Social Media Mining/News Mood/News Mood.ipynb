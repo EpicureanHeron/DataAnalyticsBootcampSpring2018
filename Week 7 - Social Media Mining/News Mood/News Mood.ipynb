{
 "cells": [
  {
   "cell_type": "code",
   "execution_count": 1,
   "metadata": {
    "collapsed": true
   },
   "outputs": [],
   "source": [
    "# import dependencies\n",
    "import tweepy\n",
    "import matplotlib.pyplot as plt\n",
    "from vaderSentiment.vaderSentiment import SentimentIntensityAnalyzer\n",
    "import config\n",
    "import json\n",
    "import pandas as pd"
   ]
  },
  {
   "cell_type": "code",
   "execution_count": 2,
   "metadata": {
    "collapsed": true
   },
   "outputs": [],
   "source": [
    "# initalize analyzer\n",
    "analyzer = SentimentIntensityAnalyzer()"
   ]
  },
  {
   "cell_type": "code",
   "execution_count": 3,
   "metadata": {
    "collapsed": true
   },
   "outputs": [],
   "source": [
    "# Twitter API Keys\n",
    "consumer_key = config.consumer_key\n",
    "consumer_secret = config.consumer_secret\n",
    "access_token = config.access_token\n",
    "access_token_secret = config.access_token_secret"
   ]
  },
  {
   "cell_type": "code",
   "execution_count": 4,
   "metadata": {
    "collapsed": true
   },
   "outputs": [],
   "source": [
    "# set twitter handles (Used the UK bbc twitter to get a comparison between UK and US news. Might be intresting)\n",
    "twitter_handles = ['@cnn', '@foxnews', '@bbcnews', '@cbsnews', '@nytimes']"
   ]
  },
  {
   "cell_type": "code",
   "execution_count": 5,
   "metadata": {
    "collapsed": true
   },
   "outputs": [],
   "source": [
    "auth = tweepy.OAuthHandler(consumer_key, consumer_secret)\n",
    "auth.set_access_token(access_token, access_token_secret)\n",
    "api = tweepy.API(auth)"
   ]
  },
  {
   "cell_type": "code",
   "execution_count": 6,
   "metadata": {
    "collapsed": true
   },
   "outputs": [],
   "source": [
    "# tweet lists\n",
    "cnn_tweets = []\n",
    "fox_tweets = []\n",
    "bbc_tweets = []\n",
    "cbs_tweets = []\n",
    "nyt_tweets = []\n",
    "\n",
    "# tweet date list\n",
    "cnn_tweet_date = []\n",
    "fox_tweet_date = []\n",
    "bbc_tweet_date = []\n",
    "cbs_tweet_date = []\n",
    "nyt_tweet_date = []\n",
    "\n",
    "# comp lists\n",
    "cnn_comp = []\n",
    "fox_comp = []\n",
    "bbc_comp = []\n",
    "cbs_comp = []\n",
    "nyt_comp = []\n",
    "\n",
    "# pos lists\n",
    "cnn_pos = []\n",
    "fox_pos = []\n",
    "bbc_pos = []\n",
    "cbs_pos = []\n",
    "nyt_pos = []\n",
    "\n",
    "# neu lists\n",
    "cnn_neu = []\n",
    "fox_neu = []\n",
    "bbc_neu = []\n",
    "cbs_neu = []\n",
    "nyt_neu = []\n",
    "\n",
    "# neg lists\n",
    "cnn_neg = []\n",
    "fox_neg = []\n",
    "bbc_neg = []\n",
    "cbs_neg = []\n",
    "nyt_neg = []"
   ]
  },
  {
   "cell_type": "code",
   "execution_count": 7,
   "metadata": {},
   "outputs": [],
   "source": [
    "# grab tweets for each handle\n",
    "for handle in twitter_handles:\n",
    "    # TODO: change items to 100\n",
    "    for tweet in tweepy.Cursor(api.user_timeline, id = handle, tweet_mode = 'extended').items(100):\n",
    "        tweet_text = json.dumps(tweet._json, indent=3)\n",
    "        tweet = json.loads(tweet_text)\n",
    "        \n",
    "        # grab full tweet\n",
    "        full_tweet = tweet['full_text']\n",
    "        \n",
    "        # remove tweet url\n",
    "        split_tweet = full_tweet.split('https',1)[0]\n",
    "        \n",
    "        # place in correct list\n",
    "        if(handle == '@cnn'):\n",
    "            # add tweet to list\n",
    "            cnn_tweets.append(split_tweet)\n",
    "            cnn_tweet_date.append(tweet['created_at'])\n",
    "            # get sentiments\n",
    "            comp_sentiment = analyzer.polarity_scores(split_tweet)['compound']\n",
    "            pos_sentiment = analyzer.polarity_scores(split_tweet)[\"pos\"]\n",
    "            neu_sentiment = analyzer.polarity_scores(split_tweet)[\"neu\"]\n",
    "            neg_sentiment = analyzer.polarity_scores(split_tweet)[\"neg\"]\n",
    "            \n",
    "            # add sentiments to lists\n",
    "            cnn_comp.append(comp_sentiment)\n",
    "            cnn_pos.append(pos_sentiment) \n",
    "            cnn_neu.append(neu_sentiment)\n",
    "            cnn_neg.append(neg_sentiment)\n",
    "        elif(handle == '@foxnews'):\n",
    "            # add tweet to list\n",
    "            fox_tweets.append(split_tweet)\n",
    "            fox_tweet_date.append(tweet['created_at'])\n",
    "\n",
    "            \n",
    "            # get sentiments\n",
    "            comp_sentiment = analyzer.polarity_scores(split_tweet)['compound']\n",
    "            pos_sentiment = analyzer.polarity_scores(split_tweet)[\"pos\"]\n",
    "            neu_sentiment = analyzer.polarity_scores(split_tweet)[\"neu\"]\n",
    "            neg_sentiment = analyzer.polarity_scores(split_tweet)[\"neg\"]\n",
    "            \n",
    "            # add sentiments to lists\n",
    "            fox_comp.append(comp_sentiment)\n",
    "            fox_pos.append(pos_sentiment) \n",
    "            fox_neu.append(neu_sentiment)\n",
    "            fox_neg.append(neg_sentiment)\n",
    "        elif(handle == '@bbcnews'):\n",
    "            # add tweet to list\n",
    "            bbc_tweets.append(split_tweet)\n",
    "            bbc_tweet_date.append(tweet['created_at'])\n",
    "            \n",
    "            # get sentiments\n",
    "            comp_sentiment = analyzer.polarity_scores(split_tweet)['compound']\n",
    "            pos_sentiment = analyzer.polarity_scores(split_tweet)[\"pos\"]\n",
    "            neu_sentiment = analyzer.polarity_scores(split_tweet)[\"neu\"]\n",
    "            neg_sentiment = analyzer.polarity_scores(split_tweet)[\"neg\"]\n",
    "            \n",
    "            # add sentiments to lists\n",
    "            bbc_comp.append(comp_sentiment)\n",
    "            bbc_pos.append(pos_sentiment) \n",
    "            bbc_neu.append(neu_sentiment)\n",
    "            bbc_neg.append(neg_sentiment)\n",
    "        elif(handle == '@cbsnews'):\n",
    "            # add tweet to list\n",
    "            cbs_tweets.append(split_tweet)\n",
    "            cbs_tweet_date.append(tweet['created_at'])\n",
    "            \n",
    "            # get sentiments\n",
    "            comp_sentiment = analyzer.polarity_scores(split_tweet)['compound']\n",
    "            pos_sentiment = analyzer.polarity_scores(split_tweet)[\"pos\"]\n",
    "            neu_sentiment = analyzer.polarity_scores(split_tweet)[\"neu\"]\n",
    "            neg_sentiment = analyzer.polarity_scores(split_tweet)[\"neg\"]\n",
    "            \n",
    "            # add sentiments to lists\n",
    "            cbs_comp.append(comp_sentiment)\n",
    "            cbs_pos.append(pos_sentiment) \n",
    "            cbs_neu.append(neu_sentiment)\n",
    "            cbs_neg.append(neg_sentiment)\n",
    "        elif(handle == '@nytimes'):\n",
    "            # add tweet to list\n",
    "            nyt_tweets.append(split_tweet)\n",
    "            nyt_tweet_date.append(tweet['created_at'])\n",
    "            \n",
    "            # get sentiments\n",
    "            comp_sentiment = analyzer.polarity_scores(split_tweet)['compound']\n",
    "            pos_sentiment = analyzer.polarity_scores(split_tweet)[\"pos\"]\n",
    "            neu_sentiment = analyzer.polarity_scores(split_tweet)[\"neu\"]\n",
    "            neg_sentiment = analyzer.polarity_scores(split_tweet)[\"neg\"]\n",
    "            \n",
    "            # add sentiments to lists\n",
    "            nyt_comp.append(comp_sentiment)\n",
    "            nyt_pos.append(pos_sentiment) \n",
    "            nyt_neu.append(neu_sentiment)\n",
    "            nyt_neg.append(neg_sentiment)"
   ]
  },
  {
   "cell_type": "code",
   "execution_count": 8,
   "metadata": {},
   "outputs": [],
   "source": [
    "# create dictionaries\n",
    "cnn_tweet_dict = {'Tweet' : cnn_tweets,\n",
    "                 'Tweet Date' : cnn_tweet_date,\n",
    "                 'Tweet Compound' : cnn_comp,\n",
    "                 'Tweet Positive' : cnn_pos,\n",
    "                 'Tweet Neutral' : cnn_neu,\n",
    "                 'Tweet Negative' : cnn_neg}\n",
    "fox_tweet_dict = {'Tweet' : fox_tweets,\n",
    "                 'Tweet Date' : fox_tweet_date,\n",
    "                 'Tweet Compound' : fox_comp,\n",
    "                 'Tweet Positive' : fox_pos,\n",
    "                 'Tweet Neutral' : fox_neu,\n",
    "                 'Tweet Negative' : fox_neg}\n",
    "bbc_tweet_dict = {'Tweet' : bbc_tweets,\n",
    "                 'Tweet Date' : bbc_tweet_date,\n",
    "                 'Tweet Compound' : bbc_comp,\n",
    "                 'Tweet Positive' : bbc_pos,\n",
    "                 'Tweet Neutral' : bbc_neu,\n",
    "                 'Tweet Negative' : bbc_neg}\n",
    "cbs_tweet_dict = {'Tweet' : cbs_tweets,\n",
    "                 'Tweet Date' : cbs_tweet_date,\n",
    "                 'Tweet Compound' : cbs_comp,\n",
    "                 'Tweet Positive' : cbs_pos,\n",
    "                 'Tweet Neutral' : cbs_neu,\n",
    "                 'Tweet Negative' : cbs_neg}\n",
    "nyt_tweet_dict = {'Tweet' : nyt_tweets,\n",
    "                 'Tweet Date' : nyt_tweet_date,\n",
    "                 'Tweet Compound' : nyt_comp,\n",
    "                 'Tweet Positive' : nyt_pos,\n",
    "                 'Tweet Neutral' : nyt_neu,\n",
    "                 'Tweet Negative' : nyt_neg}"
   ]
  },
  {
   "cell_type": "code",
   "execution_count": 9,
   "metadata": {
    "collapsed": true
   },
   "outputs": [],
   "source": [
    "# format dictionaries into dataframes\n",
    "cnn_tweet_df = pd.DataFrame(cnn_tweet_dict)\n",
    "fox_tweet_df = pd.DataFrame(fox_tweet_dict)\n",
    "bbc_tweet_df = pd.DataFrame(bbc_tweet_dict)\n",
    "cbs_tweet_df = pd.DataFrame(cbs_tweet_dict)\n",
    "nyt_tweet_df = pd.DataFrame(nyt_tweet_dict)"
   ]
  },
  {
   "cell_type": "code",
   "execution_count": 10,
   "metadata": {},
   "outputs": [],
   "source": [
    "# add handles to dataframes\n",
    "cnn_tweet_df['Handle'] = 'CNN'\n",
    "fox_tweet_df['Handle'] = 'FoxNews'\n",
    "bbc_tweet_df['Handle'] = 'BBCNews'\n",
    "cbs_tweet_df['Handle'] = 'CBSNews'\n",
    "nyt_tweet_df['Handle'] = 'NYTimes'\n",
    "\n",
    "# add tweets ago column\n",
    "cnn_tweet_df['Tweets Ago'] = ''\n",
    "fox_tweet_df['Tweets Ago'] = ''\n",
    "bbc_tweet_df['Tweets Ago'] = ''\n",
    "cbs_tweet_df['Tweets Ago'] = ''\n",
    "nyt_tweet_df['Tweets Ago'] = ''"
   ]
  },
  {
   "cell_type": "code",
   "execution_count": 11,
   "metadata": {},
   "outputs": [],
   "source": [
    "# set how many tweets ago\n",
    "tweets_ago = 0\n",
    "for index,row in cnn_tweet_df.iterrows():\n",
    "    cnn_tweet_df.set_value(index, 'Tweets Ago', tweets_ago)\n",
    "    tweets_ago += 1"
   ]
  },
  {
   "cell_type": "code",
   "execution_count": 12,
   "metadata": {},
   "outputs": [],
   "source": [
    "tweets_ago = 0\n",
    "for index,row in fox_tweet_df.iterrows():\n",
    "    fox_tweet_df.set_value(index, 'Tweets Ago', tweets_ago)\n",
    "    tweets_ago += 1"
   ]
  },
  {
   "cell_type": "code",
   "execution_count": 13,
   "metadata": {
    "collapsed": true
   },
   "outputs": [],
   "source": [
    "tweets_ago = 0\n",
    "for index,row in bbc_tweet_df.iterrows():\n",
    "    bbc_tweet_df.set_value(index, 'Tweets Ago', tweets_ago)\n",
    "    tweets_ago += 1"
   ]
  },
  {
   "cell_type": "code",
   "execution_count": 14,
   "metadata": {
    "collapsed": true
   },
   "outputs": [],
   "source": [
    "tweets_ago = 0\n",
    "for index,row in cbs_tweet_df.iterrows():\n",
    "    cbs_tweet_df.set_value(index, 'Tweets Ago', tweets_ago)\n",
    "    tweets_ago += 1"
   ]
  },
  {
   "cell_type": "code",
   "execution_count": 15,
   "metadata": {
    "collapsed": true
   },
   "outputs": [],
   "source": [
    "tweets_ago = 0\n",
    "for index,row in nyt_tweet_df.iterrows():\n",
    "    nyt_tweet_df.set_value(index, 'Tweets Ago', tweets_ago)\n",
    "    tweets_ago += 1"
   ]
  },
  {
   "cell_type": "code",
   "execution_count": 16,
   "metadata": {},
   "outputs": [
    {
     "data": {
      "image/png": "[encoded data removed]",
      "text/plain": [
       "<matplotlib.figure.Figure at 0x11745b0f0>"
      ]
     },
     "metadata": {},
     "output_type": "display_data"
    }
   ],
   "source": [
    "# create scatter plot of sentiment analysises of tweets\n",
    "plt.scatter(cnn_tweet_df['Tweets Ago'], cnn_tweet_df['Tweet Compound'], label='CNN')\n",
    "plt.scatter(fox_tweet_df['Tweets Ago'], fox_tweet_df['Tweet Compound'], label='FOX')\n",
    "plt.scatter(bbc_tweet_df['Tweets Ago'], bbc_tweet_df['Tweet Compound'], label='BBC')\n",
    "plt.scatter(cbs_tweet_df['Tweets Ago'], cbs_tweet_df['Tweet Compound'], label='CBS')\n",
    "plt.scatter(nyt_tweet_df['Tweets Ago'], nyt_tweet_df['Tweet Compound'], label='NYT')\n",
    "plt.gca().invert_xaxis()\n",
    "plt.title('Sentiment Analysis of Media Tweets')\n",
    "plt.xlabel('Tweets ago')\n",
    "plt.ylabel('Compound Sentiment')\n",
    "plt.legend(title='Handle', loc='best')\n",
    "plt.show()"
   ]
  },
  {
   "cell_type": "code",
   "execution_count": null,
   "metadata": {
    "collapsed": true
   },
   "outputs": [],
   "source": []
  }
 ],
 "metadata": {
  "kernelspec": {
   "display_name": "Python 3",
   "language": "python",
   "name": "python3"
  },
  "language_info": {
   "codemirror_mode": {
    "name": "ipython",
    "version": 3
   },
   "file_extension": ".py",
   "mimetype": "text/x-python",
   "name": "python",
   "nbconvert_exporter": "python",
   "pygments_lexer": "ipython3",
   "version": "3.6.1"
  }
 },
 "nbformat": 4,
 "nbformat_minor": 2
}
