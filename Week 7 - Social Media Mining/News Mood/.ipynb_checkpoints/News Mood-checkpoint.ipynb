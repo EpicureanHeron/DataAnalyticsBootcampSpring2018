{
 "cells": [
  {
   "cell_type": "code",
   "execution_count": 19,
   "metadata": {
    "collapsed": true
   },
   "outputs": [],
   "source": [
    "# import dependencies\n",
    "import tweepy\n",
    "import matplotlib as plt\n",
    "from vaderSentiment.vaderSentiment import SentimentIntensityAnalyzer\n",
    "import config\n",
    "import json"
   ]
  },
  {
   "cell_type": "code",
   "execution_count": 4,
   "metadata": {
    "collapsed": true
   },
   "outputs": [],
   "source": [
    "# initalize analyzer\n",
    "analyzer = SentimentIntensityAnalyzer()"
   ]
  },
  {
   "cell_type": "code",
   "execution_count": 8,
   "metadata": {
    "collapsed": true
   },
   "outputs": [],
   "source": [
    "# Twitter API Keys\n",
    "consumer_key = config.consumer_key\n",
    "consumer_secret = config.consumer_secret\n",
    "access_token = config.access_token\n",
    "access_token_secret = config.access_token_secret"
   ]
  },
  {
   "cell_type": "code",
   "execution_count": 9,
   "metadata": {
    "collapsed": true
   },
   "outputs": [],
   "source": [
    "# set twitter handles (Used the UK bbc twitter to get a comparison between UK and US news. Might be intresting)\n",
    "twitter_handles = ['@cnn', '@foxnews', '@bbcnews', '@cbsnews', '@nytimes']"
   ]
  },
  {
   "cell_type": "code",
   "execution_count": 14,
   "metadata": {
    "collapsed": true
   },
   "outputs": [],
   "source": [
    "auth = tweepy.OAuthHandler(consumer_key, consumer_secret)\n",
    "auth.set_access_token(access_token, access_token_secret)\n",
    "api = tweepy.API(auth)"
   ]
  },
  {
   "cell_type": "code",
   "execution_count": 28,
   "metadata": {
    "collapsed": true
   },
   "outputs": [],
   "source": [
    "# initalize lists\n",
    "cnn_tweets = []\n",
    "fox_tweets = []\n",
    "bbc_tweets = []\n",
    "cbs_tweets = []\n",
    "nyt_tweets = []"
   ]
  },
  {
   "cell_type": "code",
   "execution_count": 29,
   "metadata": {},
   "outputs": [],
   "source": [
    "# grab tweets for each handle\n",
    "for handle in twitter_handles:\n",
    "    # TODO: change items to 100\n",
    "    for tweet in tweepy.Cursor(api.user_timeline, id = handle, tweet_mode = 'extended').items(5):\n",
    "        tweet_text = json.dumps(tweet._json, indent=3)\n",
    "        tweet = json.loads(tweet_text)\n",
    "        \n",
    "        # grab full tweet\n",
    "        full_tweet = tweet['full_text']\n",
    "        \n",
    "        # remove tweet url\n",
    "        split_tweet = full_tweet.split('https',1)[0]\n",
    "        \n",
    "        # place in correct list\n",
    "        if(handle == '@cnn'):\n",
    "            cnn_tweets.append(split_tweet)\n",
    "        elif(handle == '@foxnews'):\n",
    "            fox_tweets.append(split_tweet)\n",
    "        elif(handle == '@bbcnews'):\n",
    "            bbc_tweets.append(split_tweet)\n",
    "        elif(handle == '@cbsnews'):\n",
    "            cbs_tweets.append(split_tweet)\n",
    "        elif(handle == '@nytimes'):\n",
    "            nyt_tweets.append(split_tweet)"
   ]
  },
  {
   "cell_type": "code",
   "execution_count": null,
   "metadata": {
    "collapsed": true
   },
   "outputs": [],
   "source": []
  }
 ],
 "metadata": {
  "kernelspec": {
   "display_name": "Python 3",
   "language": "python",
   "name": "python3"
  },
  "language_info": {
   "codemirror_mode": {
    "name": "ipython",
    "version": 3
   },
   "file_extension": ".py",
   "mimetype": "text/x-python",
   "name": "python",
   "nbconvert_exporter": "python",
   "pygments_lexer": "ipython3",
   "version": "3.6.3"
  }
 },
 "nbformat": 4,
 "nbformat_minor": 2
}
