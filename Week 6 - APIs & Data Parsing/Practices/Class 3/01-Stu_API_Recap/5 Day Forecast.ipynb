{
 "cells": [
  {
   "cell_type": "code",
   "execution_count": 10,
   "metadata": {
    "collapsed": true
   },
   "outputs": [],
   "source": [
    "import requests as req\n",
    "import json"
   ]
  },
  {
   "cell_type": "code",
   "execution_count": 11,
   "metadata": {
    "collapsed": true
   },
   "outputs": [],
   "source": [
    "api_key = '345964136b71eed7c4385662c1cd7cc7'"
   ]
  },
  {
   "cell_type": "code",
   "execution_count": 15,
   "metadata": {
    "collapsed": true
   },
   "outputs": [],
   "source": [
    "url = 'http://api.openweathermap.org/data/2.5/forecast?id=5308655&units=IMPERIAL&mode=json&APPID=' + api_key"
   ]
  },
  {
   "cell_type": "code",
   "execution_count": 16,
   "metadata": {
    "collapsed": true
   },
   "outputs": [],
   "source": [
    "response = req.get(url).json()"
   ]
  },
  {
   "cell_type": "code",
   "execution_count": 20,
   "metadata": {},
   "outputs": [],
   "source": [
    "temps = []\n",
    "times = []"
   ]
  },
  {
   "cell_type": "code",
   "execution_count": 21,
   "metadata": {},
   "outputs": [
    {
     "name": "stdout",
     "output_type": "stream",
     "text": [
      "2018-02-22 03:00:00 | 47.8 F\n",
      "2018-02-22 06:00:00 | 42.39 F\n",
      "2018-02-22 09:00:00 | 38.43 F\n",
      "2018-02-22 12:00:00 | 34 F\n",
      "2018-02-22 15:00:00 | 33.83 F\n",
      "2018-02-22 18:00:00 | 49.1 F\n",
      "2018-02-22 21:00:00 | 54.15 F\n",
      "2018-02-23 00:00:00 | 53.04 F\n",
      "2018-02-23 03:00:00 | 48.21 F\n",
      "2018-02-23 06:00:00 | 47.31 F\n",
      "2018-02-23 09:00:00 | 46.31 F\n",
      "2018-02-23 12:00:00 | 38.75 F\n",
      "2018-02-23 15:00:00 | 35.23 F\n",
      "2018-02-23 18:00:00 | 52.06 F\n",
      "2018-02-23 21:00:00 | 50.43 F\n",
      "2018-02-24 00:00:00 | 44.39 F\n",
      "2018-02-24 03:00:00 | 37.76 F\n",
      "2018-02-24 06:00:00 | 31.35 F\n",
      "2018-02-24 09:00:00 | 28.24 F\n",
      "2018-02-24 12:00:00 | 26.35 F\n",
      "2018-02-24 15:00:00 | 27.99 F\n",
      "2018-02-24 18:00:00 | 45.39 F\n",
      "2018-02-24 21:00:00 | 50.97 F\n",
      "2018-02-25 00:00:00 | 51.06 F\n",
      "2018-02-25 03:00:00 | 37.54 F\n",
      "2018-02-25 06:00:00 | 30.79 F\n",
      "2018-02-25 09:00:00 | 28.14 F\n",
      "2018-02-25 12:00:00 | 26.18 F\n",
      "2018-02-25 15:00:00 | 27.35 F\n",
      "2018-02-25 18:00:00 | 47.96 F\n",
      "2018-02-25 21:00:00 | 53.69 F\n",
      "2018-02-26 00:00:00 | 53.99 F\n",
      "2018-02-26 03:00:00 | 40.26 F\n",
      "2018-02-26 06:00:00 | 33.07 F\n",
      "2018-02-26 09:00:00 | 28.38 F\n",
      "2018-02-26 12:00:00 | 26.46 F\n",
      "2018-02-26 15:00:00 | 27.98 F\n",
      "2018-02-26 18:00:00 | 49.56 F\n",
      "2018-02-26 21:00:00 | 57.56 F\n"
     ]
    }
   ],
   "source": [
    "for temp in response['list']:\n",
    "    print(\"%s | %s F\" % (temp['dt_txt'], temp['main']['temp']))\n",
    "    temps.append(temp['main']['temp'])\n",
    "    times.append(temp['dt_txt'])"
   ]
  },
  {
   "cell_type": "code",
   "execution_count": null,
   "metadata": {},
   "outputs": [],
   "source": []
  },
  {
   "cell_type": "code",
   "execution_count": null,
   "metadata": {
    "collapsed": true
   },
   "outputs": [],
   "source": []
  }
 ],
 "metadata": {
  "kernelspec": {
   "display_name": "Python 3",
   "language": "python",
   "name": "python3"
  },
  "language_info": {
   "codemirror_mode": {
    "name": "ipython",
    "version": 3
   },
   "file_extension": ".py",
   "mimetype": "text/x-python",
   "name": "python",
   "nbconvert_exporter": "python",
   "pygments_lexer": "ipython3",
   "version": "3.6.3"
  }
 },
 "nbformat": 4,
 "nbformat_minor": 2
}
