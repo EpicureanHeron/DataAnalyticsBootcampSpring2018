{
 "cells": [
  {
   "cell_type": "code",
   "execution_count": 1,
   "metadata": {},
   "outputs": [
    {
     "name": "stdout",
     "output_type": "stream",
     "text": [
      "Collecting census\n",
      "  Downloading census-0.8.6-py2.py3-none-any.whl\n",
      "Requirement already satisfied: requests>=1.1.0 in /Users/ddrossi93/anaconda/envs/PythonData/lib/python3.6/site-packages (from census)\n",
      "Requirement already satisfied: chardet<3.1.0,>=3.0.2 in /Users/ddrossi93/anaconda/envs/PythonData/lib/python3.6/site-packages (from requests>=1.1.0->census)\n",
      "Requirement already satisfied: idna<2.7,>=2.5 in /Users/ddrossi93/anaconda/envs/PythonData/lib/python3.6/site-packages (from requests>=1.1.0->census)\n",
      "Requirement already satisfied: urllib3<1.23,>=1.21.1 in /Users/ddrossi93/anaconda/envs/PythonData/lib/python3.6/site-packages (from requests>=1.1.0->census)\n",
      "Requirement already satisfied: certifi>=2017.4.17 in /Users/ddrossi93/anaconda/envs/PythonData/lib/python3.6/site-packages (from requests>=1.1.0->census)\n",
      "Installing collected packages: census\n",
      "Successfully installed census-0.8.6\n"
     ]
    }
   ],
   "source": [
    "!pip install census"
   ]
  },
  {
   "cell_type": "code",
   "execution_count": 2,
   "metadata": {},
   "outputs": [
    {
     "name": "stdout",
     "output_type": "stream",
     "text": [
      "Collecting us\n",
      "  Downloading us-1.0.0.tar.gz\n",
      "Collecting jellyfish==0.5.6 (from us)\n",
      "  Downloading jellyfish-0.5.6.tar.gz (132kB)\n",
      "\u001b[K    100% |████████████████████████████████| 133kB 153kB/s ta 0:00:01\n",
      "\u001b[?25hBuilding wheels for collected packages: us, jellyfish\n",
      "  Running setup.py bdist_wheel for us ... \u001b[?25ldone\n",
      "\u001b[?25h  Stored in directory: /Users/ddrossi93/Library/Caches/pip/wheels/d6/a4/78/845fac9702b2f9957d9ee03a0ae7915cd50c20b191bf2fb3c9\n",
      "  Running setup.py bdist_wheel for jellyfish ... \u001b[?25ldone\n",
      "\u001b[?25h  Stored in directory: /Users/ddrossi93/Library/Caches/pip/wheels/0f/a8/f6/3c2f1675f6a60367a113203470a21398c178d5145df7e68d24\n",
      "Successfully built us jellyfish\n",
      "Installing collected packages: jellyfish, us\n",
      "Successfully installed jellyfish-0.5.6 us-1.0.0\n"
     ]
    }
   ],
   "source": [
    "!pip install us"
   ]
  },
  {
   "cell_type": "code",
   "execution_count": 3,
   "metadata": {
    "collapsed": true
   },
   "outputs": [],
   "source": [
    "# Dependencies\n",
    "import numpy as np\n",
    "import pandas as pd\n",
    "import matplotlib.pyplot as plt \n",
    "import requests\n",
    "from census import Census\n",
    "from us import states\n",
    "\n",
    "# Census API Key\n",
    "c = Census(\"85ac64b6b5a9c0901b00329d1ef41f0c53ccfc98\", year=2013)"
   ]
  },
  {
   "cell_type": "code",
   "execution_count": 4,
   "metadata": {},
   "outputs": [
    {
     "name": "stdout",
     "output_type": "stream",
     "text": [
      "33120\n"
     ]
    },
    {
     "data": {
      "text/html": [
       "<div>\n",
       "<table border=\"1\" class=\"dataframe\">\n",
       "  <thead>\n",
       "    <tr style=\"text-align: right;\">\n",
       "      <th></th>\n",
       "      <th>Zipcode</th>\n",
       "      <th>Population</th>\n",
       "      <th>Median Age</th>\n",
       "      <th>Household Income</th>\n",
       "      <th>Per Capita Income</th>\n",
       "      <th>Poverty Count</th>\n",
       "      <th>Poverty Rate</th>\n",
       "    </tr>\n",
       "  </thead>\n",
       "  <tbody>\n",
       "    <tr>\n",
       "      <th>0</th>\n",
       "      <td>00601</td>\n",
       "      <td>18450</td>\n",
       "      <td>36.6</td>\n",
       "      <td>12041</td>\n",
       "      <td>7380</td>\n",
       "      <td>10816</td>\n",
       "      <td>58.623306</td>\n",
       "    </tr>\n",
       "    <tr>\n",
       "      <th>1</th>\n",
       "      <td>00602</td>\n",
       "      <td>41302</td>\n",
       "      <td>38.6</td>\n",
       "      <td>15663</td>\n",
       "      <td>8463</td>\n",
       "      <td>22409</td>\n",
       "      <td>54.256452</td>\n",
       "    </tr>\n",
       "    <tr>\n",
       "      <th>2</th>\n",
       "      <td>00603</td>\n",
       "      <td>53683</td>\n",
       "      <td>38.9</td>\n",
       "      <td>15485</td>\n",
       "      <td>9176</td>\n",
       "      <td>26220</td>\n",
       "      <td>48.842278</td>\n",
       "    </tr>\n",
       "    <tr>\n",
       "      <th>3</th>\n",
       "      <td>00606</td>\n",
       "      <td>6591</td>\n",
       "      <td>37.3</td>\n",
       "      <td>15019</td>\n",
       "      <td>6383</td>\n",
       "      <td>3721</td>\n",
       "      <td>56.455773</td>\n",
       "    </tr>\n",
       "    <tr>\n",
       "      <th>4</th>\n",
       "      <td>00610</td>\n",
       "      <td>28963</td>\n",
       "      <td>39.2</td>\n",
       "      <td>16707</td>\n",
       "      <td>7892</td>\n",
       "      <td>14569</td>\n",
       "      <td>50.302110</td>\n",
       "    </tr>\n",
       "  </tbody>\n",
       "</table>\n",
       "</div>"
      ],
      "text/plain": [
       "  Zipcode Population Median Age Household Income Per Capita Income  \\\n",
       "0   00601      18450       36.6            12041              7380   \n",
       "1   00602      41302       38.6            15663              8463   \n",
       "2   00603      53683       38.9            15485              9176   \n",
       "3   00606       6591       37.3            15019              6383   \n",
       "4   00610      28963       39.2            16707              7892   \n",
       "\n",
       "  Poverty Count  Poverty Rate  \n",
       "0         10816     58.623306  \n",
       "1         22409     54.256452  \n",
       "2         26220     48.842278  \n",
       "3          3721     56.455773  \n",
       "4         14569     50.302110  "
      ]
     },
     "execution_count": 4,
     "metadata": {},
     "output_type": "execute_result"
    }
   ],
   "source": [
    "# Run Census Search to retrieve data on all zip codes (2013 ACS5 Census)\n",
    "# See: https://github.com/CommerceDataService/census-wrapper for library documentation\n",
    "# See: https://gist.github.com/afhaque/60558290d6efd892351c4b64e5c01e9b for labels\n",
    "census_data = c.acs5.get((\"NAME\", \"B19013_001E\", \"B01003_001E\", \"B01002_001E\",\n",
    "                          \"B19301_001E\",\n",
    "                          \"B17001_002E\"), {'for': 'zip code tabulation area:*'})\n",
    "\n",
    "# Convert to DataFrame\n",
    "census_pd = pd.DataFrame(census_data)\n",
    "\n",
    "# Column Reordering\n",
    "census_pd = census_pd.rename(columns={\"B01003_001E\": \"Population\", \n",
    "                                      \"B01002_001E\": \"Median Age\",\n",
    "                                      \"B19013_001E\": \"Household Income\",\n",
    "                                      \"B19301_001E\": \"Per Capita Income\",\n",
    "                                      \"B17001_002E\": \"Poverty Count\",\n",
    "                                      \"NAME\": \"Name\", \"zip code tabulation area\": \"Zipcode\"})\n",
    "\n",
    "# Add in Poverty Rate (Poverty Count / Population)\n",
    "census_pd[\"Poverty Rate\"] = 100 * census_pd[\"Poverty Count\"].astype(int) / census_pd[\"Population\"].astype(int)\n",
    "\n",
    "# Final DataFrame\n",
    "census_pd = census_pd[[\"Zipcode\", \"Population\", \"Median Age\", \"Household Income\",\n",
    "                       \"Per Capita Income\", \"Poverty Count\", \"Poverty Rate\"]]\n",
    "\n",
    "# Visualize\n",
    "print(len(census_pd))\n",
    "census_pd.head()"
   ]
  },
  {
   "cell_type": "code",
   "execution_count": 5,
   "metadata": {},
   "outputs": [],
   "source": [
    "# Save as a csv\n",
    "# Note to avoid any issues later, use encoding=\"utf-8\"\n",
    "census_pd.to_csv(\"census_data.csv\", encoding=\"utf-8\", index=False)"
   ]
  },
  {
   "cell_type": "code",
   "execution_count": null,
   "metadata": {
    "collapsed": true
   },
   "outputs": [],
   "source": []
  }
 ],
 "metadata": {
  "anaconda-cloud": {},
  "kernelspec": {
   "display_name": "Python 3",
   "language": "python",
   "name": "python3"
  },
  "language_info": {
   "codemirror_mode": {
    "name": "ipython",
    "version": 3
   },
   "file_extension": ".py",
   "mimetype": "text/x-python",
   "name": "python",
   "nbconvert_exporter": "python",
   "pygments_lexer": "ipython3",
   "version": "3.6.3"
  }
 },
 "nbformat": 4,
 "nbformat_minor": 1
}
