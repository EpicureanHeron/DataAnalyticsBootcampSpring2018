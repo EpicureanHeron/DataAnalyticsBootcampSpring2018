{
 "cells": [
  {
   "cell_type": "code",
   "execution_count": 1,
   "metadata": {},
   "outputs": [
    {
     "name": "stdout",
     "output_type": "stream",
     "text": [
      "Requirement already satisfied: citipy in /Users/ddrossi93/anaconda/lib/python3.6/site-packages\r\n",
      "Requirement already satisfied: kdtree>=0.12 in /Users/ddrossi93/anaconda/lib/python3.6/site-packages (from citipy)\r\n"
     ]
    }
   ],
   "source": [
    "# install CitiPy\n",
    "!pip install citipy"
   ]
  },
  {
   "cell_type": "code",
   "execution_count": 2,
   "metadata": {
    "collapsed": true
   },
   "outputs": [],
   "source": [
    "# dependencies\n",
    "from citipy import citipy\n",
    "import matplotlib\n",
    "import requests as req\n",
    "import numpy as np"
   ]
  },
  {
   "cell_type": "code",
   "execution_count": 3,
   "metadata": {},
   "outputs": [],
   "source": [
    "# get list of random lat and lng\n",
    "lats = np.random.randint(low=-90, high=90, size=500)\n",
    "lons = np.random.randint(low=-180, high=180, size=500)\n",
    "\n",
    "# convert to list\n",
    "lats = lats.tolist()\n",
    "lons = lons.tolist()"
   ]
  },
  {
   "cell_type": "code",
   "execution_count": 5,
   "metadata": {},
   "outputs": [],
   "source": [
    "# get list of cities\n",
    "cities = []\n",
    "for i in range(len(lats)):\n",
    "    city = citipy.nearest_city(lats[i], lons[i])\n",
    "    cities.append(city.city_name)\n",
    "    \n",
    "# TODO: make sure no duplicates"
   ]
  },
  {
   "cell_type": "code",
   "execution_count": 12,
   "metadata": {},
   "outputs": [
    {
     "name": "stdout",
     "output_type": "stream",
     "text": [
      "No Data Found\n",
      "No Data Found\n",
      "No Data Found\n",
      "No Data Found\n",
      "No Data Found\n",
      "No Data Found\n",
      "No Data Found\n",
      "No Data Found\n",
      "No Data Found\n",
      "No Data Found\n",
      "No Data Found\n",
      "No Data Found\n",
      "No Data Found\n",
      "No Data Found\n",
      "No Data Found\n",
      "No Data Found\n",
      "No Data Found\n",
      "No Data Found\n",
      "No Data Found\n",
      "No Data Found\n",
      "No Data Found\n",
      "No Data Found\n",
      "No Data Found\n",
      "No Data Found\n",
      "No Data Found\n",
      "No Data Found\n",
      "No Data Found\n",
      "No Data Found\n",
      "No Data Found\n",
      "No Data Found\n",
      "No Data Found\n",
      "No Data Found\n",
      "No Data Found\n",
      "No Data Found\n",
      "No Data Found\n",
      "No Data Found\n",
      "No Data Found\n",
      "No Data Found\n",
      "No Data Found\n",
      "No Data Found\n",
      "No Data Found\n",
      "No Data Found\n",
      "No Data Found\n",
      "No Data Found\n",
      "No Data Found\n",
      "[7, 12, -31, 56, 86, -78, -48, 76, -3, 61, 40, -53, 86, -48, -86, -18, 34, 65, 11, 24, 65, 27, -87, 28, 31, -23, -68, -27, 17, -81, -49, 50, 56, -73, 18, -24, 31, 76, -5, -86, -28, -25, -85, 17, -84, -66, -62, 12, 87, -84, -15, -38, 79, -16, 66, -11, -83, -15, -41, 63, -67, -87, 31, 83, -52, -35, 20, -50, -20, -36, -55, -41, -12, 88, 40, 67, 27, 15, 33, -66, 78, -74, 14, 76, 61, -33, -15, 0, -14, -15, -77, -57, 27, 64, -46, -33, 27, -83, -12, 2, -22, -63, 64, -47, -23, -64, -70, 75, -29, -70, -63, 61, -28, 38, -11, -71, -6, 26, 41, -7, -12, 7, -33, -23, -35, -81, -59, -9, 50, -32, -45, -81, -1, -49, -80, -9, -30, 36, 45, 35, 54, 2, -32, -12, 51, -22, 25, 28, -23, -75, 14, 12, -27, -57, 68, 61, 78, -1, 21, -36, -21, 59, -39, -87, 26, 56, -62, -23, -84, 41, -43, 29, 54, -72, 29, 53, -76, 47, 26, 44, 6, 48, 26, -25, 41, -42, -26, 60, -11, -88, -87, -83, 60, 3, -46, 15, -4, -59, -85, 60, 52, -47, 24, 47, 46, 23, -23, -5, -84, -15, -32, -5, 0, -49, 1, 8, 89, 28, -59, 50, -10, -59, 10, 51, 26, 54, -45, -75, -50, -86, 55, -89, 60, -83, 83, -85, -11, 35, -53, 56, -74, 14, 19, -81, -55, -22, 52, -12, 61, 68, 37, 40, 22, -55, 67, 26, -71, -87, 81, 56, -22, 23, 25, -35, -51, -25, -54, 30, 2, -4, 53, 16, 46, 47, -77, -24, -89, 58, -6, 23, -16, 8, 40, 88, 21, -88, 3, -19, -72, -50, -88, 26, -43, 59, 75, 18, 73, -9, 1, -78, -79, 72, 51, 68, 10, -83, 79, 24, -44, 31, -86, 47, 56, 45, 32, -79, -56, -38, -13, -72, -77, -35, -45, 5, -55, 19, 89, 60, 41, -19, -7, -66, 49, 53, -39, 4, 89, 43, 87, 41, -5, -34, -64, 8, 26, -85, 60, -71, -11, 75, 53, 17, -36, -25, -52, -61, 10, -54, 24, -34, 24, -66, 23, 32, 84, -10, -30, 24, -8, 14, -80, 27, 24, -50, -51, -53, -14, 53, -16, 34, 67, -36, 45, -35, -49, -13, 76, -61, 28, 24, 61, -43, 10, 48, 32, -47, -74, 59, 56, 37, -47, -43, 88, 7, -59, -45, -28, -28, 14, -11, 18, -78, 3, -58, 11, 25, -86, -53, -49, -58, 81, -41, 35, -79, 68, -67, -75, -54, -49, -65, -1, 54, 30, -61, 38, 86, -23, -87, 32, -10, 75, -52, -38, 83, 48, -11, -86, 61, 61, -19, -20, -12, -38, -52, -55]\n"
     ]
    }
   ],
   "source": [
    "open_weather_key = '25bc90a1196e6f153eece0bc0b0fc9eb'\n",
    "temps = []\n",
    "humidity = []\n",
    "clouds = []\n",
    "wind = []\n",
    "city_lat = []\n",
    "city_lng = []\n",
    "\n",
    "for j in range(len(cities)):\n",
    "    city = cities[j]\n",
    "    url = \"http://api.openweathermap.org/data/2.5/weather?\"\n",
    "\n",
    "    try:\n",
    "        # Build query URL\n",
    "        query_url = url + \"appid=\" + open_weather_key + \"&q=\" + city + '&units=imperial'\n",
    "\n",
    "        test = req.get(query_url).json()\n",
    "\n",
    "        temps.append(test['main']['temp'])\n",
    "        humidity.append(test['main']['humidity'])\n",
    "        clouds.append(test['clouds']['all'])\n",
    "        wind.append(test['wind']['speed'])\n",
    "        city_lat.append(lats[j])\n",
    "        city_lng.append(lons[j])\n",
    "    except:\n",
    "        print(\"No Data Found\")\n",
    "print(city_lat)"
   ]
  },
  {
   "cell_type": "code",
   "execution_count": null,
   "metadata": {},
   "outputs": [],
   "source": [
    "# Dependencies\n",
    "import json\n",
    "import requests as req\n",
    "\n",
    "# Save config information\n",
    "api_key = \"25bc90a1196e6f153eece0bc0b0fc9eb\"\n",
    "url = \"http://api.openweathermap.org/data/2.5/weather?\"\n",
    "city = \"London\"\n",
    "\n",
    "# Build query URL\n",
    "query_url = url + \"appid=\" + api_key + \"&q=\" + city\n",
    "\n",
    "# Get weather data\n",
    "weather_response = req.get(query_url)\n",
    "weather_json = weather_response.json()\n",
    "\n",
    "# Get the temperature from the response\n",
    "print(\"The weather API responded with: \" + str(weather_json) + \".\")"
   ]
  },
  {
   "cell_type": "code",
   "execution_count": null,
   "metadata": {
    "collapsed": true
   },
   "outputs": [],
   "source": []
  }
 ],
 "metadata": {
  "kernelspec": {
   "display_name": "Python 3",
   "language": "python",
   "name": "python3"
  },
  "language_info": {
   "codemirror_mode": {
    "name": "ipython",
    "version": 3
   },
   "file_extension": ".py",
   "mimetype": "text/x-python",
   "name": "python",
   "nbconvert_exporter": "python",
   "pygments_lexer": "ipython3",
   "version": "3.6.1"
  }
 },
 "nbformat": 4,
 "nbformat_minor": 2
}
