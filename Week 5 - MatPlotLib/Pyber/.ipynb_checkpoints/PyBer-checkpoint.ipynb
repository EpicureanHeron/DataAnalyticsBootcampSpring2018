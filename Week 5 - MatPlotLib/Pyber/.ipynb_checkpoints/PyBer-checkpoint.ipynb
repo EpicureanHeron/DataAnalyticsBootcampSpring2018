{
 "cells": [
  {
   "cell_type": "code",
   "execution_count": 154,
   "metadata": {},
   "outputs": [],
   "source": [
    "# dependencies\n",
    "import pandas as pd\n",
    "import matplotlib.pyplot as plt\n",
    "import os"
   ]
  },
  {
   "cell_type": "code",
   "execution_count": 155,
   "metadata": {},
   "outputs": [],
   "source": [
    "# grab file paths\n",
    "city_data_path = os.path.join('Data', 'city_data.csv')\n",
    "ride_data_path = os.path.join('Data', 'ride_data.csv')"
   ]
  },
  {
   "cell_type": "code",
   "execution_count": 156,
   "metadata": {},
   "outputs": [],
   "source": [
    "# read csvs\n",
    "city_data = pd.read_csv(city_data_path)\n",
    "ride_data = pd.read_csv(ride_data_path)"
   ]
  },
  {
   "cell_type": "code",
   "execution_count": 157,
   "metadata": {},
   "outputs": [],
   "source": [
    "# create dataframes\n",
    "city_df = pd.DataFrame(city_data)\n",
    "ride_df = pd.DataFrame(ride_data)"
   ]
  },
  {
   "cell_type": "code",
   "execution_count": 158,
   "metadata": {},
   "outputs": [],
   "source": [
    "# get total number of rides per city\n",
    "city_group_df = ride_df.groupby('city').count()"
   ]
  },
  {
   "cell_type": "code",
   "execution_count": 159,
   "metadata": {},
   "outputs": [],
   "source": [
    "# get average fare per city\n",
    "city_avg_df = ride_df.groupby('city').mean()"
   ]
  },
  {
   "cell_type": "code",
   "execution_count": 160,
   "metadata": {},
   "outputs": [],
   "source": [
    "# remove unecessary columns\n",
    "city_avg_df = city_avg_df.iloc[:, 0]"
   ]
  },
  {
   "cell_type": "code",
   "execution_count": 161,
   "metadata": {},
   "outputs": [],
   "source": [
    "# convert back to dataframe\n",
    "city_avg_df = pd.DataFrame(city_avg_df)"
   ]
  },
  {
   "cell_type": "code",
   "execution_count": 162,
   "metadata": {},
   "outputs": [],
   "source": [
    "# add average fare column to grouped city dataframe\n",
    "city_group_df['Average Fare'] = city_avg_df['fare']"
   ]
  },
  {
   "cell_type": "code",
   "execution_count": 163,
   "metadata": {},
   "outputs": [],
   "source": [
    "# rename columns to reflect count\n",
    "city_group_df = city_group_df.rename(columns={'date' : 'Total Number of Rides'})"
   ]
  },
  {
   "cell_type": "code",
   "execution_count": 164,
   "metadata": {},
   "outputs": [],
   "source": [
    "# delete unneeded columns\n",
    "del city_group_df['fare']\n",
    "del city_group_df['ride_id']"
   ]
  },
  {
   "cell_type": "code",
   "execution_count": 165,
   "metadata": {},
   "outputs": [],
   "source": [
    "# remove duplicate city and keep the first occurance\n",
    "city_df = city_df.drop_duplicates(subset='city',keep='first')"
   ]
  },
  {
   "cell_type": "code",
   "execution_count": 166,
   "metadata": {},
   "outputs": [],
   "source": [
    "# set index to city\n",
    "city_df.set_index('city', inplace=True)"
   ]
  },
  {
   "cell_type": "code",
   "execution_count": 167,
   "metadata": {},
   "outputs": [
    {
     "data": {
      "text/html": [
       "<div>\n",
       "<style scoped>\n",
       "    .dataframe tbody tr th:only-of-type {\n",
       "        vertical-align: middle;\n",
       "    }\n",
       "\n",
       "    .dataframe tbody tr th {\n",
       "        vertical-align: top;\n",
       "    }\n",
       "\n",
       "    .dataframe thead th {\n",
       "        text-align: right;\n",
       "    }\n",
       "</style>\n",
       "<table border=\"1\" class=\"dataframe\">\n",
       "  <thead>\n",
       "    <tr style=\"text-align: right;\">\n",
       "      <th></th>\n",
       "      <th>Total Number of Rides</th>\n",
       "      <th>Average Fare</th>\n",
       "      <th>Driver Count</th>\n",
       "    </tr>\n",
       "    <tr>\n",
       "      <th>city</th>\n",
       "      <th></th>\n",
       "      <th></th>\n",
       "      <th></th>\n",
       "    </tr>\n",
       "  </thead>\n",
       "  <tbody>\n",
       "    <tr>\n",
       "      <th>Alvarezhaven</th>\n",
       "      <td>31</td>\n",
       "      <td>23.928710</td>\n",
       "      <td>21</td>\n",
       "    </tr>\n",
       "    <tr>\n",
       "      <th>Alyssaberg</th>\n",
       "      <td>26</td>\n",
       "      <td>20.609615</td>\n",
       "      <td>67</td>\n",
       "    </tr>\n",
       "    <tr>\n",
       "      <th>Anitamouth</th>\n",
       "      <td>9</td>\n",
       "      <td>37.315556</td>\n",
       "      <td>16</td>\n",
       "    </tr>\n",
       "    <tr>\n",
       "      <th>Antoniomouth</th>\n",
       "      <td>22</td>\n",
       "      <td>23.625000</td>\n",
       "      <td>21</td>\n",
       "    </tr>\n",
       "    <tr>\n",
       "      <th>Aprilchester</th>\n",
       "      <td>19</td>\n",
       "      <td>21.981579</td>\n",
       "      <td>49</td>\n",
       "    </tr>\n",
       "  </tbody>\n",
       "</table>\n",
       "</div>"
      ],
      "text/plain": [
       "              Total Number of Rides  Average Fare  Driver Count\n",
       "city                                                           \n",
       "Alvarezhaven                     31     23.928710            21\n",
       "Alyssaberg                       26     20.609615            67\n",
       "Anitamouth                        9     37.315556            16\n",
       "Antoniomouth                     22     23.625000            21\n",
       "Aprilchester                     19     21.981579            49"
      ]
     },
     "execution_count": 167,
     "metadata": {},
     "output_type": "execute_result"
    }
   ],
   "source": [
    "# add driver count row to grouped df\n",
    "city_group_df['Driver Count'] = city_df['driver_count']\n",
    "city_group_df.head()"
   ]
  },
  {
   "cell_type": "code",
   "execution_count": 168,
   "metadata": {},
   "outputs": [],
   "source": [
    "# add city type to grouped df\n",
    "city_group_df['Type'] = city_df['type']"
   ]
  },
  {
   "cell_type": "code",
   "execution_count": 169,
   "metadata": {},
   "outputs": [],
   "source": [
    "# initialize lists\n",
    "urban_x = []\n",
    "urban_y = []\n",
    "urban_drivers = []\n",
    "suburban_x = []\n",
    "suburban_y = []\n",
    "suburban_drivers = []\n",
    "rural_x = []\n",
    "rural_y = []\n",
    "rural_drivers = []"
   ]
  },
  {
   "cell_type": "code",
   "execution_count": 170,
   "metadata": {},
   "outputs": [],
   "source": [
    "# fill lists with data\n",
    "for index, row in city_group_df.iterrows():\n",
    "    if row['Type'] == 'Suburban':\n",
    "        suburban_x.append(row['Total Number of Rides'])\n",
    "        suburban_y.append(row['Average Fare'])\n",
    "        suburban_drivers.append(row['Driver Count'])\n",
    "    elif row['Type'] == 'Urban':\n",
    "        urban_x.append(row['Total Number of Rides'])\n",
    "        urban_y.append(row['Average Fare'])\n",
    "        urban_drivers.append(row['Driver Count'])\n",
    "    elif row['Type'] == 'Rural':\n",
    "        rural_x.append(row['Total Number of Rides'])\n",
    "        rural_y.append(row['Average Fare'])\n",
    "        rural_drivers.append(row['Driver Count'])"
   ]
  },
  {
   "cell_type": "code",
   "execution_count": 171,
   "metadata": {},
   "outputs": [
    {
     "data": {
      "image/png": "[encoded data removed]",
      "text/plain": [
       "<matplotlib.figure.Figure at 0x22e6126e048>"
      ]
     },
     "metadata": {},
     "output_type": "display_data"
    }
   ],
   "source": [
    "# make bubble chart\n",
    "plt.scatter(suburban_x, suburban_y, s=suburban_drivers, label='Suburban', color='#FFD700', edgecolor='black')\n",
    "plt.scatter(urban_x, urban_y, s=urban_drivers, label='Urban', color='#87CEFA', edgecolor='blue')\n",
    "plt.scatter(rural_x, rural_y, s=rural_drivers, label='Rural', color='#FF7F50')\n",
    "plt.title('Pyber Ride Sharing Data (2016)')\n",
    "plt.xlabel(\"Total Number of Rides (Per City)\")\n",
    "plt.ylabel(\"Average Fare ($)\")\n",
    "plt.legend(title='City Type', loc='best')\n",
    "plt.show()"
   ]
  },
  {
   "cell_type": "code",
   "execution_count": 172,
   "metadata": {},
   "outputs": [
    {
     "data": {
      "text/html": [
       "<div>\n",
       "<style scoped>\n",
       "    .dataframe tbody tr th:only-of-type {\n",
       "        vertical-align: middle;\n",
       "    }\n",
       "\n",
       "    .dataframe tbody tr th {\n",
       "        vertical-align: top;\n",
       "    }\n",
       "\n",
       "    .dataframe thead th {\n",
       "        text-align: right;\n",
       "    }\n",
       "</style>\n",
       "<table border=\"1\" class=\"dataframe\">\n",
       "  <thead>\n",
       "    <tr style=\"text-align: right;\">\n",
       "      <th></th>\n",
       "      <th>Total Number of Rides</th>\n",
       "      <th>Average Fare</th>\n",
       "      <th>Driver Count</th>\n",
       "    </tr>\n",
       "    <tr>\n",
       "      <th>Type</th>\n",
       "      <th></th>\n",
       "      <th></th>\n",
       "      <th></th>\n",
       "    </tr>\n",
       "  </thead>\n",
       "  <tbody>\n",
       "    <tr>\n",
       "      <th>Rural</th>\n",
       "      <td>125</td>\n",
       "      <td>615.728572</td>\n",
       "      <td>104</td>\n",
       "    </tr>\n",
       "    <tr>\n",
       "      <th>Suburban</th>\n",
       "      <td>625</td>\n",
       "      <td>1268.627391</td>\n",
       "      <td>635</td>\n",
       "    </tr>\n",
       "    <tr>\n",
       "      <th>Urban</th>\n",
       "      <td>1625</td>\n",
       "      <td>1623.863390</td>\n",
       "      <td>2607</td>\n",
       "    </tr>\n",
       "  </tbody>\n",
       "</table>\n",
       "</div>"
      ],
      "text/plain": [
       "          Total Number of Rides  Average Fare  Driver Count\n",
       "Type                                                       \n",
       "Rural                       125    615.728572           104\n",
       "Suburban                    625   1268.627391           635\n",
       "Urban                      1625   1623.863390          2607"
      ]
     },
     "execution_count": 172,
     "metadata": {},
     "output_type": "execute_result"
    }
   ],
   "source": [
    "city_type_group = city_group_df.groupby('Type').sum()\n",
    "city_type_group.head()"
   ]
  },
  {
   "cell_type": "code",
   "execution_count": 173,
   "metadata": {},
   "outputs": [],
   "source": [
    "total_rides = city_type_group['Total Number of Rides'].sum()\n",
    "total_fares = city_type_group['Average Fare'].sum()\n",
    "total_drivers = city_type_group['Driver Count'].sum()"
   ]
  },
  {
   "cell_type": "code",
   "execution_count": 174,
   "metadata": {},
   "outputs": [],
   "source": [
    "city_type_group['% of Rides'] = (city_type_group['Total Number of Rides'] / total_rides) * 100\n",
    "city_type_group['% of Fares'] = (city_type_group['Average Fare'] / total_fares) * 100\n",
    "city_type_group['% of Drivers'] = (city_type_group['Driver Count'] / total_drivers) * 100"
   ]
  },
  {
   "cell_type": "code",
   "execution_count": 175,
   "metadata": {},
   "outputs": [],
   "source": [
    "# get index as labels\n",
    "labels = city_type_group.index.tolist()\n",
    "colors = ['#FF7F50', '#FFD700', '#87CEFA']\n",
    "# initalize lists\n",
    "ride_pieces = []\n",
    "fare_pieces = []\n",
    "driver_pieces = []"
   ]
  },
  {
   "cell_type": "code",
   "execution_count": 176,
   "metadata": {},
   "outputs": [],
   "source": [
    "# fill lists with data\n",
    "for index, row in city_type_group.iterrows():\n",
    "    ride_pieces.append(row['% of Rides'])\n",
    "    fare_pieces.append(row['% of Fares'])\n",
    "    driver_pieces.append(row['% of Drivers'])"
   ]
  },
  {
   "cell_type": "code",
   "execution_count": 187,
   "metadata": {},
   "outputs": [
    {
     "data": {
      "image/png": "[encoded data removed]",
      "text/plain": [
       "<matplotlib.figure.Figure at 0x22e615008d0>"
      ]
     },
     "metadata": {},
     "output_type": "display_data"
    }
   ],
   "source": [
    "# create pie chart based on fares\n",
    "plt.pie(fare_pieces, labels=labels, autopct='%1.1f%%', shadow=True, colors=colors, explode=(0.1,0,0))\n",
    "plt.show()"
   ]
  },
  {
   "cell_type": "code",
   "execution_count": 183,
   "metadata": {},
   "outputs": [
    {
     "data": {
      "image/png": "[encoded data removed]",
      "text/plain": [
       "<matplotlib.figure.Figure at 0x22e61349940>"
      ]
     },
     "metadata": {},
     "output_type": "display_data"
    }
   ],
   "source": [
    "# create pie chart based on rides\n",
    "plt.pie(ride_pieces, labels=labels, autopct='%1.1f%%', shadow=True, colors=colors, explode=(0.4,0,0))\n",
    "plt.show()"
   ]
  },
  {
   "cell_type": "code",
   "execution_count": 184,
   "metadata": {},
   "outputs": [
    {
     "data": {
      "image/png": "[encoded data removed]",
      "text/plain": [
       "<matplotlib.figure.Figure at 0x22e613a0860>"
      ]
     },
     "metadata": {},
     "output_type": "display_data"
    }
   ],
   "source": [
    "# create pie chart based on drivers\n",
    "plt.pie(driver_pieces, labels=labels, autopct='%1.1f%%', shadow=True, colors=colors, explode=(0.4,0,0))\n",
    "plt.show()"
   ]
  },
  {
   "cell_type": "code",
   "execution_count": null,
   "metadata": {},
   "outputs": [],
   "source": []
  }
 ],
 "metadata": {
  "kernelspec": {
   "display_name": "Python 3",
   "language": "python",
   "name": "python3"
  },
  "language_info": {
   "codemirror_mode": {
    "name": "ipython",
    "version": 3
   },
   "file_extension": ".py",
   "mimetype": "text/x-python",
   "name": "python",
   "nbconvert_exporter": "python",
   "pygments_lexer": "ipython3",
   "version": "3.6.4"
  }
 },
 "nbformat": 4,
 "nbformat_minor": 2
}
