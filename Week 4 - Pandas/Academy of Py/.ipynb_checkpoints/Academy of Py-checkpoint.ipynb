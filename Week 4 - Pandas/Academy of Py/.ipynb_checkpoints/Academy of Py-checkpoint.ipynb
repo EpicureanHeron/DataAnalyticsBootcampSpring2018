{
 "cells": [
  {
   "cell_type": "code",
   "execution_count": 1,
   "metadata": {
    "collapsed": true
   },
   "outputs": [],
   "source": [
    "# import dependencies\n",
    "import pandas as pd\n",
    "import os"
   ]
  },
  {
   "cell_type": "code",
   "execution_count": 2,
   "metadata": {
    "collapsed": true
   },
   "outputs": [],
   "source": [
    "# import files\n",
    "school_file = os.path.join('Data', 'schools_complete.csv')\n",
    "students_file = os.path.join('Data', 'students_complete.csv')"
   ]
  },
  {
   "cell_type": "code",
   "execution_count": 3,
   "metadata": {
    "collapsed": true
   },
   "outputs": [],
   "source": [
    "# read csvs using pandas\n",
    "school_pd = pd.read_csv(school_file)\n",
    "student_pd = pd.read_csv(students_file)"
   ]
  },
  {
   "cell_type": "code",
   "execution_count": 20,
   "metadata": {},
   "outputs": [
    {
     "data": {
      "text/plain": [
       "78.98537145774827"
      ]
     },
     "execution_count": 20,
     "metadata": {},
     "output_type": "execute_result"
    }
   ],
   "source": [
    "# make dataframes\n",
    "school_df = pd.DataFrame(school_pd)\n",
    "student_df = pd.DataFrame(student_pd)\n",
    "student_df['math_score'].mean()"
   ]
  },
  {
   "cell_type": "code",
   "execution_count": 21,
   "metadata": {
    "collapsed": true
   },
   "outputs": [],
   "source": [
    "# get totals\n",
    "total_schools = len(school_df)\n",
    "total_students = len(student_df)\n",
    "total_budget = school_df['budget'].sum()"
   ]
  },
  {
   "cell_type": "code",
   "execution_count": 22,
   "metadata": {
    "collapsed": true
   },
   "outputs": [],
   "source": [
    "# get averages\n",
    "avg_math = student_df['math_score'].mean()\n",
    "avg_reading = student_df['reading_score'].mean()"
   ]
  },
  {
   "cell_type": "code",
   "execution_count": 54,
   "metadata": {},
   "outputs": [],
   "source": [
    "# get students passing math\n",
    "num_passing_math = len(student_df.loc[student_df['math_score'] >= 60, :])\n",
    "passing_math = num_passing_math / total_students\n",
    "\n",
    "# get students passing reading\n",
    "num_passing_reading = len(student_df.loc[student_df['reading_score'] >= 60, :])\n",
    "passing_reading = num_passing_reading / total_students\n",
    "\n",
    "# get overall passing students\n",
    "overall_passing = (passing_math + passing_reading) / 2"
   ]
  },
  {
   "cell_type": "code",
   "execution_count": 58,
   "metadata": {},
   "outputs": [
    {
     "data": {
      "text/html": [
       "<div>\n",
       "<style>\n",
       "    .dataframe thead tr:only-child th {\n",
       "        text-align: right;\n",
       "    }\n",
       "\n",
       "    .dataframe thead th {\n",
       "        text-align: left;\n",
       "    }\n",
       "\n",
       "    .dataframe tbody tr th {\n",
       "        vertical-align: top;\n",
       "    }\n",
       "</style>\n",
       "<table border=\"1\" class=\"dataframe\">\n",
       "  <thead>\n",
       "    <tr style=\"text-align: right;\">\n",
       "      <th></th>\n",
       "      <th>% Passing Math</th>\n",
       "      <th>% Passing Reading</th>\n",
       "      <th>Average Math Score</th>\n",
       "      <th>Average Reading Score</th>\n",
       "      <th>Overall Passing %</th>\n",
       "      <th>Total Budget</th>\n",
       "      <th>Total Schools</th>\n",
       "      <th>Total Students</th>\n",
       "    </tr>\n",
       "  </thead>\n",
       "  <tbody>\n",
       "    <tr>\n",
       "      <th>0</th>\n",
       "      <td>92.45%</td>\n",
       "      <td>100.00%</td>\n",
       "      <td>78.985371</td>\n",
       "      <td>81.87784</td>\n",
       "      <td>96.22%</td>\n",
       "      <td>$24,649,428</td>\n",
       "      <td>15</td>\n",
       "      <td>39,170</td>\n",
       "    </tr>\n",
       "  </tbody>\n",
       "</table>\n",
       "</div>"
      ],
      "text/plain": [
       "  % Passing Math % Passing Reading  Average Math Score  Average Reading Score  \\\n",
       "0         92.45%           100.00%           78.985371               81.87784   \n",
       "\n",
       "  Overall Passing % Total Budget  Total Schools Total Students  \n",
       "0            96.22%  $24,649,428             15         39,170  "
      ]
     },
     "execution_count": 58,
     "metadata": {},
     "output_type": "execute_result"
    }
   ],
   "source": [
    "df = {\"Total Schools\" : total_schools,\n",
    "     \"Total Students\" : \"{:,}\".format(total_students),\n",
    "     \"Total Budget\" : \"${:,}\".format(total_budget),\n",
    "     \"Average Math Score\" : avg_math,\n",
    "     \"Average Reading Score\" : avg_reading,\n",
    "     \"% Passing Math\" : '{:.2%}'.format(passing_math),\n",
    "     \"% Passing Reading\" : '{:.2%}'.format(passing_reading),\n",
    "     \"Overall Passing %\" : '{:.2%}'.format(overall_passing)}\n",
    "high_level_df = pd.DataFrame(df, index=[0])\n",
    "high_level_df\n",
    "# TODO: figure out how to flip columns. also table looks ugly as dirt"
   ]
  },
  {
   "cell_type": "code",
   "execution_count": null,
   "metadata": {
    "collapsed": true
   },
   "outputs": [],
   "source": []
  }
 ],
 "metadata": {
  "kernelspec": {
   "display_name": "Python 3",
   "language": "python",
   "name": "python3"
  },
  "language_info": {
   "codemirror_mode": {
    "name": "ipython",
    "version": 3
   },
   "file_extension": ".py",
   "mimetype": "text/x-python",
   "name": "python",
   "nbconvert_exporter": "python",
   "pygments_lexer": "ipython3",
   "version": "3.6.3"
  }
 },
 "nbformat": 4,
 "nbformat_minor": 2
}
