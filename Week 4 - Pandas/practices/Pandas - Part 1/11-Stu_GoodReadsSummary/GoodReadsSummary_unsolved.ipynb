{
 "cells": [
  {
   "cell_type": "markdown",
   "metadata": {},
   "source": [
    "# Instructions:\n",
    "\n",
    "Using the modified DataFrame that was created earlier, create a summary table for the dataset that includes the following pieces of information...\n",
    "\n",
    "The count of unique authors within the DataFrame\n",
    "\n",
    "The year of the earliest published book in the DataFrame\n",
    "\n",
    "The year of the latest published book in the DataFrame\n",
    "\n",
    "The total number of reviews within the DataFrame"
   ]
  },
  {
   "cell_type": "code",
   "execution_count": 1,
   "metadata": {
    "collapsed": true
   },
   "outputs": [],
   "source": [
    "# Import Dependencies\n",
    "import pandas as pd"
   ]
  },
  {
   "cell_type": "code",
   "execution_count": 3,
   "metadata": {},
   "outputs": [
    {
     "data": {
      "text/html": [
       "<div>\n",
       "<style>\n",
       "    .dataframe thead tr:only-child th {\n",
       "        text-align: right;\n",
       "    }\n",
       "\n",
       "    .dataframe thead th {\n",
       "        text-align: left;\n",
       "    }\n",
       "\n",
       "    .dataframe tbody tr th {\n",
       "        vertical-align: top;\n",
       "    }\n",
       "</style>\n",
       "<table border=\"1\" class=\"dataframe\">\n",
       "  <thead>\n",
       "    <tr style=\"text-align: right;\">\n",
       "      <th></th>\n",
       "      <th>Publication Year</th>\n",
       "      <th>Original Title</th>\n",
       "      <th>Authors</th>\n",
       "      <th>One Star Reviews</th>\n",
       "      <th>Two Star Reviews</th>\n",
       "      <th>Three Star Reviews</th>\n",
       "      <th>Four Star Reviews</th>\n",
       "      <th>Five Star Reviews</th>\n",
       "    </tr>\n",
       "    <tr>\n",
       "      <th>ISBN</th>\n",
       "      <th></th>\n",
       "      <th></th>\n",
       "      <th></th>\n",
       "      <th></th>\n",
       "      <th></th>\n",
       "      <th></th>\n",
       "      <th></th>\n",
       "      <th></th>\n",
       "    </tr>\n",
       "  </thead>\n",
       "  <tbody>\n",
       "    <tr>\n",
       "      <th>439023483</th>\n",
       "      <td>2008.0</td>\n",
       "      <td>The Hunger Games</td>\n",
       "      <td>Suzanne Collins</td>\n",
       "      <td>66715</td>\n",
       "      <td>127936</td>\n",
       "      <td>560092</td>\n",
       "      <td>1481305</td>\n",
       "      <td>2706317</td>\n",
       "    </tr>\n",
       "    <tr>\n",
       "      <th>439554934</th>\n",
       "      <td>1997.0</td>\n",
       "      <td>Harry Potter and the Philosopher's Stone</td>\n",
       "      <td>J.K. Rowling, Mary GrandPré</td>\n",
       "      <td>75504</td>\n",
       "      <td>101676</td>\n",
       "      <td>455024</td>\n",
       "      <td>1156318</td>\n",
       "      <td>3011543</td>\n",
       "    </tr>\n",
       "    <tr>\n",
       "      <th>316015849</th>\n",
       "      <td>2005.0</td>\n",
       "      <td>Twilight</td>\n",
       "      <td>Stephenie Meyer</td>\n",
       "      <td>456191</td>\n",
       "      <td>436802</td>\n",
       "      <td>793319</td>\n",
       "      <td>875073</td>\n",
       "      <td>1355439</td>\n",
       "    </tr>\n",
       "    <tr>\n",
       "      <th>61120081</th>\n",
       "      <td>1960.0</td>\n",
       "      <td>To Kill a Mockingbird</td>\n",
       "      <td>Harper Lee</td>\n",
       "      <td>60427</td>\n",
       "      <td>117415</td>\n",
       "      <td>446835</td>\n",
       "      <td>1001952</td>\n",
       "      <td>1714267</td>\n",
       "    </tr>\n",
       "    <tr>\n",
       "      <th>743273567</th>\n",
       "      <td>1925.0</td>\n",
       "      <td>The Great Gatsby</td>\n",
       "      <td>F. Scott Fitzgerald</td>\n",
       "      <td>86236</td>\n",
       "      <td>197621</td>\n",
       "      <td>606158</td>\n",
       "      <td>936012</td>\n",
       "      <td>947718</td>\n",
       "    </tr>\n",
       "  </tbody>\n",
       "</table>\n",
       "</div>"
      ],
      "text/plain": [
       "           Publication Year                            Original Title  \\\n",
       "ISBN                                                                    \n",
       "439023483            2008.0                          The Hunger Games   \n",
       "439554934            1997.0  Harry Potter and the Philosopher's Stone   \n",
       "316015849            2005.0                                  Twilight   \n",
       "61120081             1960.0                     To Kill a Mockingbird   \n",
       "743273567            1925.0                          The Great Gatsby   \n",
       "\n",
       "                               Authors  One Star Reviews  Two Star Reviews  \\\n",
       "ISBN                                                                         \n",
       "439023483              Suzanne Collins             66715            127936   \n",
       "439554934  J.K. Rowling, Mary GrandPré             75504            101676   \n",
       "316015849              Stephenie Meyer            456191            436802   \n",
       "61120081                    Harper Lee             60427            117415   \n",
       "743273567          F. Scott Fitzgerald             86236            197621   \n",
       "\n",
       "           Three Star Reviews  Four Star Reviews  Five Star Reviews  \n",
       "ISBN                                                                 \n",
       "439023483              560092            1481305            2706317  \n",
       "439554934              455024            1156318            3011543  \n",
       "316015849              793319             875073            1355439  \n",
       "61120081               446835            1001952            1714267  \n",
       "743273567              606158             936012             947718  "
      ]
     },
     "execution_count": 3,
     "metadata": {},
     "output_type": "execute_result"
    }
   ],
   "source": [
    "# File to Load\n",
    "goodreads_path = \"Resources/books_clean.csv\" # TODO: change on Windos / to \\\n",
    "\n",
    "# Read the modified GoodReads csv and store into Pandas DataFrame\n",
    "df = pd.DataFrame.from_csv(goodreads_path)\n",
    "df.head()"
   ]
  },
  {
   "cell_type": "code",
   "execution_count": 13,
   "metadata": {},
   "outputs": [],
   "source": [
    "# Calculate the number of unique authors in the DataFrame\n",
    "authors = len(df[\"Authors\"].unique())\n",
    "# Calculate the earliest/latest year a book was published\n",
    "oldest_book = df[\"Publication Year\"].min()\n",
    "newest_book = df[\"Publication Year\"].max()\n",
    "# Calculate the total reviews for the entire dataset\n",
    "total_reviews = df[\"One Star Reviews\"].sum() + df[\"Two Star Reviews\"].sum() + df[\"Three Star Reviews\"].sum() + df[\"Four Star Reviews\"].sum() + df[\"Five Star Reviews\"].sum()"
   ]
  },
  {
   "cell_type": "code",
   "execution_count": 17,
   "metadata": {},
   "outputs": [
    {
     "data": {
      "text/html": [
       "<div>\n",
       "<style>\n",
       "    .dataframe thead tr:only-child th {\n",
       "        text-align: right;\n",
       "    }\n",
       "\n",
       "    .dataframe thead th {\n",
       "        text-align: left;\n",
       "    }\n",
       "\n",
       "    .dataframe tbody tr th {\n",
       "        vertical-align: top;\n",
       "    }\n",
       "</style>\n",
       "<table border=\"1\" class=\"dataframe\">\n",
       "  <thead>\n",
       "    <tr style=\"text-align: right;\">\n",
       "      <th></th>\n",
       "      <th>Earliest Year</th>\n",
       "      <th>Latest Year</th>\n",
       "      <th>Total Reviews</th>\n",
       "      <th>Total Unique Authors</th>\n",
       "    </tr>\n",
       "  </thead>\n",
       "  <tbody>\n",
       "    <tr>\n",
       "      <th>0</th>\n",
       "      <td>-1750.0</td>\n",
       "      <td>2017.0</td>\n",
       "      <td>596873216</td>\n",
       "      <td>4664</td>\n",
       "    </tr>\n",
       "  </tbody>\n",
       "</table>\n",
       "</div>"
      ],
      "text/plain": [
       "   Earliest Year  Latest Year  Total Reviews  Total Unique Authors\n",
       "0        -1750.0       2017.0      596873216                  4664"
      ]
     },
     "execution_count": 17,
     "metadata": {},
     "output_type": "execute_result"
    }
   ],
   "source": [
    "# Place all of the data found into a summary DataFrame\n",
    "summary = pd.DataFrame({\"Total Unique Authors\" : authors,\n",
    "                       \"Earliest Year\" : [oldest_book],\n",
    "                      \"Latest Year\" : [newest_book],\n",
    "                      \"Total Reviews\" : [total_reviews]})\n",
    "summary"
   ]
  },
  {
   "cell_type": "code",
   "execution_count": null,
   "metadata": {
    "collapsed": true
   },
   "outputs": [],
   "source": []
  }
 ],
 "metadata": {
  "kernelspec": {
   "display_name": "Python 3",
   "language": "python",
   "name": "python3"
  },
  "language_info": {
   "codemirror_mode": {
    "name": "ipython",
    "version": 3
   },
   "file_extension": ".py",
   "mimetype": "text/x-python",
   "name": "python",
   "nbconvert_exporter": "python",
   "pygments_lexer": "ipython3",
   "version": "3.6.3"
  }
 },
 "nbformat": 4,
 "nbformat_minor": 2
}
