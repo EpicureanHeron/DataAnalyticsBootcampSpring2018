{
 "cells": [
  {
   "cell_type": "markdown",
   "metadata": {},
   "source": [
    "# Instructions:\n",
    "\n",
    "Using the modified DataFrame that was created earlier, create a summary table for the dataset that includes the following pieces of information...\n",
    "\n",
    "The count of unique authors within the DataFrame\n",
    "\n",
    "The year of the earliest published book in the DataFrame\n",
    "\n",
    "The year of the latest published book in the DataFrame\n",
    "\n",
    "The total number of reviews within the DataFrame"
   ]
  },
  {
   "cell_type": "code",
   "execution_count": 1,
   "metadata": {
    "collapsed": true
   },
   "outputs": [],
   "source": [
    "# Import Dependencies\n",
    "import pandas as pd"
   ]
  },
  {
   "cell_type": "code",
   "execution_count": 2,
   "metadata": {},
   "outputs": [],
   "source": [
    "# File to Load\n",
    "goodreads_path = \"../Resources/books_clean.csv\" # TODO: change on Windos / to \\\n",
    "\n",
    "# Read the modified GoodReads csv and store into Pandas DataFrame\n"
   ]
  },
  {
   "cell_type": "code",
   "execution_count": 11,
   "metadata": {
    "collapsed": true
   },
   "outputs": [],
   "source": [
    "# Calculate the number of unique authors in the DataFrame\n",
    "\n",
    "# Calculate the earliest/latest year a book was published\n",
    "\n",
    "# Calculate the total reviews for the entire dataset\n"
   ]
  },
  {
   "cell_type": "code",
   "execution_count": 3,
   "metadata": {},
   "outputs": [],
   "source": [
    "# Place all of the data found into a summary DataFrame\n"
   ]
  },
  {
   "cell_type": "code",
   "execution_count": null,
   "metadata": {
    "collapsed": true
   },
   "outputs": [],
   "source": []
  }
 ],
 "metadata": {
  "kernelspec": {
   "display_name": "Python 3",
   "language": "python",
   "name": "python3"
  },
  "language_info": {
   "codemirror_mode": {
    "name": "ipython",
    "version": 3
   },
   "file_extension": ".py",
   "mimetype": "text/x-python",
   "name": "python",
   "nbconvert_exporter": "python",
   "pygments_lexer": "ipython3",
   "version": "3.6.3"
  }
 },
 "nbformat": 4,
 "nbformat_minor": 2
}
