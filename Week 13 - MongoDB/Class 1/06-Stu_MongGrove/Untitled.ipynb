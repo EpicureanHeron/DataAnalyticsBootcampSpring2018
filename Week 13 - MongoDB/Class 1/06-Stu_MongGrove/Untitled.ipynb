{
 "cells": [
  {
   "cell_type": "code",
   "execution_count": 19,
   "metadata": {
    "collapsed": true
   },
   "outputs": [],
   "source": [
    "# import dependencies\n",
    "import pymongo\n",
    "import datetime"
   ]
  },
  {
   "cell_type": "code",
   "execution_count": 2,
   "metadata": {
    "collapsed": true
   },
   "outputs": [],
   "source": [
    "# connect to db\n",
    "conn = 'mongodb://localhost:27017'\n",
    "client = pymongo.MongoClient(conn)"
   ]
  },
  {
   "cell_type": "code",
   "execution_count": 3,
   "metadata": {
    "collapsed": true
   },
   "outputs": [],
   "source": [
    "# set db\n",
    "db = client.fruits_db"
   ]
  },
  {
   "cell_type": "code",
   "execution_count": null,
   "metadata": {
    "collapsed": true
   },
   "outputs": [],
   "source": []
  },
  {
   "cell_type": "code",
   "execution_count": 16,
   "metadata": {},
   "outputs": [
    {
     "data": {
      "text/plain": [
       "<pymongo.results.InsertOneResult at 0x1056615c8>"
      ]
     },
     "execution_count": 16,
     "metadata": {},
     "output_type": "execute_result"
    }
   ],
   "source": [
    "# Insert a document into the 'students' collection\n",
    "db.shipments.insert_one(\n",
    "    {\n",
    "        'vendor name': 'Bilbo\\'s Bananas',\n",
    "        'type of fruit': 'Oranges',\n",
    "        'quantity received': 8000,\n",
    "        'ripeness rating': 3,\n",
    "        'order time' : datetime.datetime.now()\n",
    "    }\n",
    ")"
   ]
  },
  {
   "cell_type": "code",
   "execution_count": 17,
   "metadata": {},
   "outputs": [
    {
     "data": {
      "text/plain": [
       "<pymongo.results.InsertOneResult at 0x105657c88>"
      ]
     },
     "execution_count": 17,
     "metadata": {},
     "output_type": "execute_result"
    }
   ],
   "source": [
    "# Insert a document into the 'students' collection\n",
    "db.shipments.insert_one(\n",
    "    {\n",
    "        'vendor name': 'Kanye\\'s Oranges',\n",
    "        'type of fruit': 'Tomatoes',\n",
    "        'quantity received': 5000,\n",
    "        'ripeness rating': 1\n",
    "    }\n",
    ")"
   ]
  },
  {
   "cell_type": "code",
   "execution_count": 18,
   "metadata": {},
   "outputs": [
    {
     "name": "stdout",
     "output_type": "stream",
     "text": [
      "{'_id': ObjectId('5acc1f80207d5b1e7351ce7f'), 'vendor name': \"Bilbo's Bananas\", 'type of fruit': 'Oranges', 'quantity received': 8000, 'ripeness rating': 4}\n",
      "{'_id': ObjectId('5acc1fef207d5b1e7351ce80'), 'vendor name': \"Kanye's Oranges\", 'type of fruit': 'Tomatoes', 'quantity received': 5000, 'ripeness rating': 2}\n",
      "{'_id': ObjectId('5acc2000207d5b1e7351ce81'), 'vendor name': \"Bilbo's Bananas\", 'type of fruit': 'Oranges', 'quantity received': 8000, 'ripeness rating': 3}\n",
      "{'_id': ObjectId('5acc2000207d5b1e7351ce82'), 'vendor name': \"Kanye's Oranges\", 'type of fruit': 'Tomatoes', 'quantity received': 5000, 'ripeness rating': 1}\n"
     ]
    }
   ],
   "source": [
    "for shipment in db.shipments.find():\n",
    "    print(shipment)"
   ]
  },
  {
   "cell_type": "code",
   "execution_count": null,
   "metadata": {
    "collapsed": true
   },
   "outputs": [],
   "source": []
  }
 ],
 "metadata": {
  "kernelspec": {
   "display_name": "Python 3",
   "language": "python",
   "name": "python3"
  },
  "language_info": {
   "codemirror_mode": {
    "name": "ipython",
    "version": 3
   },
   "file_extension": ".py",
   "mimetype": "text/x-python",
   "name": "python",
   "nbconvert_exporter": "python",
   "pygments_lexer": "ipython3",
   "version": "3.6.3"
  }
 },
 "nbformat": 4,
 "nbformat_minor": 2
}
